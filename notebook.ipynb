{
 "cells": [
  {
   "cell_type": "markdown",
   "id": "bf66bc55",
   "metadata": {
    "papermill": {
     "duration": 0.028483,
     "end_time": "2023-07-18T19:05:56.418822",
     "exception": false,
     "start_time": "2023-07-18T19:05:56.390339",
     "status": "completed"
    },
    "tags": []
   },
   "source": [
    "# Import all the required libraries"
   ]
  },
  {
   "cell_type": "code",
   "execution_count": 1,
   "id": "2d5eb712",
   "metadata": {
    "execution": {
     "iopub.execute_input": "2023-07-18T19:05:56.475686Z",
     "iopub.status.busy": "2023-07-18T19:05:56.475232Z",
     "iopub.status.idle": "2023-07-18T19:05:58.780266Z",
     "shell.execute_reply": "2023-07-18T19:05:58.778963Z"
    },
    "papermill": {
     "duration": 2.337985,
     "end_time": "2023-07-18T19:05:58.783608",
     "exception": false,
     "start_time": "2023-07-18T19:05:56.445623",
     "status": "completed"
    },
    "tags": []
   },
   "outputs": [],
   "source": [
    "import pandas as pd\n",
    "import numpy as np\n",
    "from sklearn.dummy import DummyClassifier\n",
    "from sklearn.linear_model import LogisticRegression\n",
    "import sklearn.preprocessing as preprocessing\n",
    "from sklearn.preprocessing import StandardScaler\n",
    "from sklearn import svm\n",
    "from sklearn.pipeline import Pipeline,FeatureUnion\n",
    "from sklearn.preprocessing import OrdinalEncoder\n",
    "from sklearn.compose import ColumnTransformer\n",
    "from sklearn.impute import SimpleImputer\n",
    "from sklearn.neighbors import KNeighborsClassifier\n",
    "from sklearn.metrics import ConfusionMatrixDisplay,confusion_matrix,precision_recall_curve\n",
    "from sklearn.metrics import classification_report\n",
    "import matplotlib.pyplot as plt\n",
    "from sklearn.model_selection import GridSearchCV\n",
    "from sklearn.tree import DecisionTreeClassifier\n",
    "from sklearn import tree\n",
    "from sklearn.ensemble import BaggingClassifier\n",
    "from sklearn.ensemble import AdaBoostClassifier\n",
    "from sklearn.neural_network import MLPClassifier"
   ]
  },
  {
   "cell_type": "markdown",
   "id": "6ed60c61",
   "metadata": {
    "papermill": {
     "duration": 0.026413,
     "end_time": "2023-07-18T19:05:58.836520",
     "exception": false,
     "start_time": "2023-07-18T19:05:58.810107",
     "status": "completed"
    },
    "tags": []
   },
   "source": [
    "# Import the input files"
   ]
  },
  {
   "cell_type": "code",
   "execution_count": 2,
   "id": "91444c00",
   "metadata": {
    "execution": {
     "iopub.execute_input": "2023-07-18T19:05:58.891235Z",
     "iopub.status.busy": "2023-07-18T19:05:58.890716Z",
     "iopub.status.idle": "2023-07-18T19:05:58.899107Z",
     "shell.execute_reply": "2023-07-18T19:05:58.897820Z"
    },
    "papermill": {
     "duration": 0.039245,
     "end_time": "2023-07-18T19:05:58.901958",
     "exception": false,
     "start_time": "2023-07-18T19:05:58.862713",
     "status": "completed"
    },
    "tags": []
   },
   "outputs": [
    {
     "name": "stdout",
     "output_type": "stream",
     "text": [
      "/kaggle/input/sentiment-prediction-on-movie-reviews/movies.csv\n",
      "/kaggle/input/sentiment-prediction-on-movie-reviews/sample.csv\n",
      "/kaggle/input/sentiment-prediction-on-movie-reviews/train.csv\n",
      "/kaggle/input/sentiment-prediction-on-movie-reviews/test.csv\n"
     ]
    }
   ],
   "source": [
    "import os\n",
    "for dirname, _, filenames in os.walk('/kaggle/input'):\n",
    "    for filename in filenames:\n",
    "        print(os.path.join(dirname, filename))"
   ]
  },
  {
   "cell_type": "code",
   "execution_count": 3,
   "id": "97b73b73",
   "metadata": {
    "execution": {
     "iopub.execute_input": "2023-07-18T19:05:58.957194Z",
     "iopub.status.busy": "2023-07-18T19:05:58.956414Z",
     "iopub.status.idle": "2023-07-18T19:06:01.639709Z",
     "shell.execute_reply": "2023-07-18T19:06:01.638288Z"
    },
    "papermill": {
     "duration": 2.714318,
     "end_time": "2023-07-18T19:06:01.642802",
     "exception": false,
     "start_time": "2023-07-18T19:05:58.928484",
     "status": "completed"
    },
    "tags": []
   },
   "outputs": [],
   "source": [
    "movies = pd.read_csv('/kaggle/input/sentiment-prediction-on-movie-reviews/movies.csv');\n",
    "train = pd.read_csv('/kaggle/input/sentiment-prediction-on-movie-reviews/train.csv');\n",
    "test = pd.read_csv('/kaggle/input/sentiment-prediction-on-movie-reviews/test.csv');"
   ]
  },
  {
   "cell_type": "code",
   "execution_count": 4,
   "id": "de347f76",
   "metadata": {
    "execution": {
     "iopub.execute_input": "2023-07-18T19:06:01.701921Z",
     "iopub.status.busy": "2023-07-18T19:06:01.701024Z",
     "iopub.status.idle": "2023-07-18T19:06:01.756344Z",
     "shell.execute_reply": "2023-07-18T19:06:01.754928Z"
    },
    "papermill": {
     "duration": 0.089081,
     "end_time": "2023-07-18T19:06:01.759101",
     "exception": false,
     "start_time": "2023-07-18T19:06:01.670020",
     "status": "completed"
    },
    "tags": []
   },
   "outputs": [
    {
     "data": {
      "text/html": [
       "<div>\n",
       "<style scoped>\n",
       "    .dataframe tbody tr th:only-of-type {\n",
       "        vertical-align: middle;\n",
       "    }\n",
       "\n",
       "    .dataframe tbody tr th {\n",
       "        vertical-align: top;\n",
       "    }\n",
       "\n",
       "    .dataframe thead th {\n",
       "        text-align: right;\n",
       "    }\n",
       "</style>\n",
       "<table border=\"1\" class=\"dataframe\">\n",
       "  <thead>\n",
       "    <tr style=\"text-align: right;\">\n",
       "      <th></th>\n",
       "      <th>movieid</th>\n",
       "      <th>title</th>\n",
       "      <th>audienceScore</th>\n",
       "      <th>rating</th>\n",
       "      <th>ratingContents</th>\n",
       "      <th>releaseDateTheaters</th>\n",
       "      <th>releaseDateStreaming</th>\n",
       "      <th>runtimeMinutes</th>\n",
       "      <th>genre</th>\n",
       "      <th>originalLanguage</th>\n",
       "      <th>director</th>\n",
       "      <th>boxOffice</th>\n",
       "      <th>distributor</th>\n",
       "      <th>soundType</th>\n",
       "    </tr>\n",
       "  </thead>\n",
       "  <tbody>\n",
       "    <tr>\n",
       "      <th>0</th>\n",
       "      <td>han_solo_heroic_myth_wonder_woman</td>\n",
       "      <td>Han Solo Heroic Myth Wonder Woman</td>\n",
       "      <td>50.0</td>\n",
       "      <td>NaN</td>\n",
       "      <td>NaN</td>\n",
       "      <td>NaN</td>\n",
       "      <td>2018-08-25</td>\n",
       "      <td>75.0</td>\n",
       "      <td>Comedy, Horror, Sci-fi</td>\n",
       "      <td>English</td>\n",
       "      <td>Claude Nicolet</td>\n",
       "      <td>NaN</td>\n",
       "      <td>NaN</td>\n",
       "      <td>NaN</td>\n",
       "    </tr>\n",
       "    <tr>\n",
       "      <th>1</th>\n",
       "      <td>voyage_tyler_durden_han_solo_stardust</td>\n",
       "      <td>Voyage Tyler Durden Han Solo Stardust</td>\n",
       "      <td>NaN</td>\n",
       "      <td>NaN</td>\n",
       "      <td>NaN</td>\n",
       "      <td>NaN</td>\n",
       "      <td>2020-02-11</td>\n",
       "      <td>114.0</td>\n",
       "      <td>Drama</td>\n",
       "      <td>English</td>\n",
       "      <td>Nathan Haack</td>\n",
       "      <td>NaN</td>\n",
       "      <td>NaN</td>\n",
       "      <td>NaN</td>\n",
       "    </tr>\n",
       "    <tr>\n",
       "      <th>2</th>\n",
       "      <td>norman_bates_ferris_bueller_hermione_granger_v...</td>\n",
       "      <td>Norman Bates Ferris Bueller Hermione Granger V...</td>\n",
       "      <td>43.0</td>\n",
       "      <td>NaN</td>\n",
       "      <td>NaN</td>\n",
       "      <td>NaN</td>\n",
       "      <td>NaN</td>\n",
       "      <td>120.0</td>\n",
       "      <td>Drama</td>\n",
       "      <td>Korean</td>\n",
       "      <td>Theresa Smith</td>\n",
       "      <td>NaN</td>\n",
       "      <td>NaN</td>\n",
       "      <td>NaN</td>\n",
       "    </tr>\n",
       "    <tr>\n",
       "      <th>3</th>\n",
       "      <td>elegant_hermione_granger</td>\n",
       "      <td>Elegant Hermione Granger</td>\n",
       "      <td>60.0</td>\n",
       "      <td>NaN</td>\n",
       "      <td>NaN</td>\n",
       "      <td>NaN</td>\n",
       "      <td>2020-10-23</td>\n",
       "      <td>90.0</td>\n",
       "      <td>Action, Mystery &amp; thriller</td>\n",
       "      <td>English</td>\n",
       "      <td>Donald Lewis</td>\n",
       "      <td>NaN</td>\n",
       "      <td>NaN</td>\n",
       "      <td>NaN</td>\n",
       "    </tr>\n",
       "    <tr>\n",
       "      <th>4</th>\n",
       "      <td>adventure_rocky_balboa</td>\n",
       "      <td>Adventure Rocky Balboa</td>\n",
       "      <td>70.0</td>\n",
       "      <td>NaN</td>\n",
       "      <td>NaN</td>\n",
       "      <td>NaN</td>\n",
       "      <td>2017-03-27</td>\n",
       "      <td>80.0</td>\n",
       "      <td>Fantasy, Adventure, Animation</td>\n",
       "      <td>English</td>\n",
       "      <td>Howard Simms</td>\n",
       "      <td>NaN</td>\n",
       "      <td>NaN</td>\n",
       "      <td>NaN</td>\n",
       "    </tr>\n",
       "    <tr>\n",
       "      <th>...</th>\n",
       "      <td>...</td>\n",
       "      <td>...</td>\n",
       "      <td>...</td>\n",
       "      <td>...</td>\n",
       "      <td>...</td>\n",
       "      <td>...</td>\n",
       "      <td>...</td>\n",
       "      <td>...</td>\n",
       "      <td>...</td>\n",
       "      <td>...</td>\n",
       "      <td>...</td>\n",
       "      <td>...</td>\n",
       "      <td>...</td>\n",
       "      <td>...</td>\n",
       "    </tr>\n",
       "    <tr>\n",
       "      <th>143253</th>\n",
       "      <td>sherlock_holmes_surreal_james_bond</td>\n",
       "      <td>Sherlock Holmes Surreal James Bond</td>\n",
       "      <td>14.0</td>\n",
       "      <td>NaN</td>\n",
       "      <td>NaN</td>\n",
       "      <td>2002-08-27</td>\n",
       "      <td>NaN</td>\n",
       "      <td>90.0</td>\n",
       "      <td>Action, Adventure, Anime</td>\n",
       "      <td>Japanese</td>\n",
       "      <td>William Sims</td>\n",
       "      <td>NaN</td>\n",
       "      <td>ADV Films</td>\n",
       "      <td>NaN</td>\n",
       "    </tr>\n",
       "    <tr>\n",
       "      <th>143254</th>\n",
       "      <td>mr._miyagi_katniss_everdeen_harmony</td>\n",
       "      <td>Mr. Miyagi Katniss Everdeen Harmony</td>\n",
       "      <td>NaN</td>\n",
       "      <td>NaN</td>\n",
       "      <td>NaN</td>\n",
       "      <td>NaN</td>\n",
       "      <td>NaN</td>\n",
       "      <td>99.0</td>\n",
       "      <td>Drama</td>\n",
       "      <td>English</td>\n",
       "      <td>Robert Paddock</td>\n",
       "      <td>NaN</td>\n",
       "      <td>NaN</td>\n",
       "      <td>NaN</td>\n",
       "    </tr>\n",
       "    <tr>\n",
       "      <th>143255</th>\n",
       "      <td>elegant_emerald_valiant_donnie_darko</td>\n",
       "      <td>Elegant Emerald Valiant Donnie Darko</td>\n",
       "      <td>71.0</td>\n",
       "      <td>NaN</td>\n",
       "      <td>NaN</td>\n",
       "      <td>NaN</td>\n",
       "      <td>NaN</td>\n",
       "      <td>43.0</td>\n",
       "      <td>Documentary</td>\n",
       "      <td>English</td>\n",
       "      <td>Roy Lovelace</td>\n",
       "      <td>NaN</td>\n",
       "      <td>NaN</td>\n",
       "      <td>NaN</td>\n",
       "    </tr>\n",
       "    <tr>\n",
       "      <th>143256</th>\n",
       "      <td>wonder_hermione_granger_hulk_v</td>\n",
       "      <td>Wonder Hermione Granger Hulk V</td>\n",
       "      <td>NaN</td>\n",
       "      <td>NaN</td>\n",
       "      <td>NaN</td>\n",
       "      <td>NaN</td>\n",
       "      <td>2006-11-21</td>\n",
       "      <td>63.0</td>\n",
       "      <td>Drama</td>\n",
       "      <td>English</td>\n",
       "      <td>Dwayne Clayton</td>\n",
       "      <td>NaN</td>\n",
       "      <td>NaN</td>\n",
       "      <td>NaN</td>\n",
       "    </tr>\n",
       "    <tr>\n",
       "      <th>143257</th>\n",
       "      <td>lara_croft_voyage</td>\n",
       "      <td>Lara Croft Voyage</td>\n",
       "      <td>NaN</td>\n",
       "      <td>NaN</td>\n",
       "      <td>NaN</td>\n",
       "      <td>NaN</td>\n",
       "      <td>NaN</td>\n",
       "      <td>90.0</td>\n",
       "      <td>Horror</td>\n",
       "      <td>English</td>\n",
       "      <td>Valerie Mcneal</td>\n",
       "      <td>NaN</td>\n",
       "      <td>NaN</td>\n",
       "      <td>NaN</td>\n",
       "    </tr>\n",
       "  </tbody>\n",
       "</table>\n",
       "<p>143258 rows × 14 columns</p>\n",
       "</div>"
      ],
      "text/plain": [
       "                                                  movieid  \\\n",
       "0                       han_solo_heroic_myth_wonder_woman   \n",
       "1                   voyage_tyler_durden_han_solo_stardust   \n",
       "2       norman_bates_ferris_bueller_hermione_granger_v...   \n",
       "3                                elegant_hermione_granger   \n",
       "4                                  adventure_rocky_balboa   \n",
       "...                                                   ...   \n",
       "143253                 sherlock_holmes_surreal_james_bond   \n",
       "143254                mr._miyagi_katniss_everdeen_harmony   \n",
       "143255               elegant_emerald_valiant_donnie_darko   \n",
       "143256                     wonder_hermione_granger_hulk_v   \n",
       "143257                                  lara_croft_voyage   \n",
       "\n",
       "                                                    title  audienceScore  \\\n",
       "0                       Han Solo Heroic Myth Wonder Woman           50.0   \n",
       "1                   Voyage Tyler Durden Han Solo Stardust            NaN   \n",
       "2       Norman Bates Ferris Bueller Hermione Granger V...           43.0   \n",
       "3                                Elegant Hermione Granger           60.0   \n",
       "4                                  Adventure Rocky Balboa           70.0   \n",
       "...                                                   ...            ...   \n",
       "143253                 Sherlock Holmes Surreal James Bond           14.0   \n",
       "143254                Mr. Miyagi Katniss Everdeen Harmony            NaN   \n",
       "143255               Elegant Emerald Valiant Donnie Darko           71.0   \n",
       "143256                     Wonder Hermione Granger Hulk V            NaN   \n",
       "143257                                  Lara Croft Voyage            NaN   \n",
       "\n",
       "       rating ratingContents releaseDateTheaters releaseDateStreaming  \\\n",
       "0         NaN            NaN                 NaN           2018-08-25   \n",
       "1         NaN            NaN                 NaN           2020-02-11   \n",
       "2         NaN            NaN                 NaN                  NaN   \n",
       "3         NaN            NaN                 NaN           2020-10-23   \n",
       "4         NaN            NaN                 NaN           2017-03-27   \n",
       "...       ...            ...                 ...                  ...   \n",
       "143253    NaN            NaN          2002-08-27                  NaN   \n",
       "143254    NaN            NaN                 NaN                  NaN   \n",
       "143255    NaN            NaN                 NaN                  NaN   \n",
       "143256    NaN            NaN                 NaN           2006-11-21   \n",
       "143257    NaN            NaN                 NaN                  NaN   \n",
       "\n",
       "        runtimeMinutes                          genre originalLanguage  \\\n",
       "0                 75.0         Comedy, Horror, Sci-fi          English   \n",
       "1                114.0                          Drama          English   \n",
       "2                120.0                          Drama           Korean   \n",
       "3                 90.0     Action, Mystery & thriller          English   \n",
       "4                 80.0  Fantasy, Adventure, Animation          English   \n",
       "...                ...                            ...              ...   \n",
       "143253            90.0       Action, Adventure, Anime         Japanese   \n",
       "143254            99.0                          Drama          English   \n",
       "143255            43.0                    Documentary          English   \n",
       "143256            63.0                          Drama          English   \n",
       "143257            90.0                         Horror          English   \n",
       "\n",
       "              director boxOffice distributor soundType  \n",
       "0       Claude Nicolet       NaN         NaN       NaN  \n",
       "1         Nathan Haack       NaN         NaN       NaN  \n",
       "2        Theresa Smith       NaN         NaN       NaN  \n",
       "3         Donald Lewis       NaN         NaN       NaN  \n",
       "4         Howard Simms       NaN         NaN       NaN  \n",
       "...                ...       ...         ...       ...  \n",
       "143253    William Sims       NaN   ADV Films       NaN  \n",
       "143254  Robert Paddock       NaN         NaN       NaN  \n",
       "143255    Roy Lovelace       NaN         NaN       NaN  \n",
       "143256  Dwayne Clayton       NaN         NaN       NaN  \n",
       "143257  Valerie Mcneal       NaN         NaN       NaN  \n",
       "\n",
       "[143258 rows x 14 columns]"
      ]
     },
     "execution_count": 4,
     "metadata": {},
     "output_type": "execute_result"
    }
   ],
   "source": [
    "movies"
   ]
  },
  {
   "cell_type": "code",
   "execution_count": 5,
   "id": "11a5a6ef",
   "metadata": {
    "execution": {
     "iopub.execute_input": "2023-07-18T19:06:01.817212Z",
     "iopub.status.busy": "2023-07-18T19:06:01.816747Z",
     "iopub.status.idle": "2023-07-18T19:06:01.834495Z",
     "shell.execute_reply": "2023-07-18T19:06:01.833620Z"
    },
    "papermill": {
     "duration": 0.050442,
     "end_time": "2023-07-18T19:06:01.837131",
     "exception": false,
     "start_time": "2023-07-18T19:06:01.786689",
     "status": "completed"
    },
    "tags": []
   },
   "outputs": [
    {
     "data": {
      "text/html": [
       "<div>\n",
       "<style scoped>\n",
       "    .dataframe tbody tr th:only-of-type {\n",
       "        vertical-align: middle;\n",
       "    }\n",
       "\n",
       "    .dataframe tbody tr th {\n",
       "        vertical-align: top;\n",
       "    }\n",
       "\n",
       "    .dataframe thead th {\n",
       "        text-align: right;\n",
       "    }\n",
       "</style>\n",
       "<table border=\"1\" class=\"dataframe\">\n",
       "  <thead>\n",
       "    <tr style=\"text-align: right;\">\n",
       "      <th></th>\n",
       "      <th>movieid</th>\n",
       "      <th>reviewerName</th>\n",
       "      <th>isFrequentReviewer</th>\n",
       "      <th>reviewText</th>\n",
       "      <th>sentiment</th>\n",
       "    </tr>\n",
       "  </thead>\n",
       "  <tbody>\n",
       "    <tr>\n",
       "      <th>0</th>\n",
       "      <td>marvelous_pirate</td>\n",
       "      <td>Benjamin Henry</td>\n",
       "      <td>False</td>\n",
       "      <td>Henry Selick’s first movie since 2009’s Corali...</td>\n",
       "      <td>POSITIVE</td>\n",
       "    </tr>\n",
       "    <tr>\n",
       "      <th>1</th>\n",
       "      <td>tony_montana_frodo_baggins_v_rocky_balboa</td>\n",
       "      <td>Felicia Lopez</td>\n",
       "      <td>False</td>\n",
       "      <td>With a cast that reads like the Vogue Oscar pa...</td>\n",
       "      <td>NEGATIVE</td>\n",
       "    </tr>\n",
       "    <tr>\n",
       "      <th>2</th>\n",
       "      <td>darth_vader_katniss_everdeen_sorcerer_donnie_d...</td>\n",
       "      <td>Mr. Charles Burgess</td>\n",
       "      <td>True</td>\n",
       "      <td>Creed II does not give us anything but another...</td>\n",
       "      <td>POSITIVE</td>\n",
       "    </tr>\n",
       "    <tr>\n",
       "      <th>3</th>\n",
       "      <td>lara_croft_glimmer</td>\n",
       "      <td>Ryan Barrett</td>\n",
       "      <td>False</td>\n",
       "      <td>I know what you're thinking, but this is no Li...</td>\n",
       "      <td>POSITIVE</td>\n",
       "    </tr>\n",
       "    <tr>\n",
       "      <th>4</th>\n",
       "      <td>jason_bourne_surreal_the_terminator_indiana_jones</td>\n",
       "      <td>Alexander Glover</td>\n",
       "      <td>False</td>\n",
       "      <td>Director Fernando Meirelles tells the story wi...</td>\n",
       "      <td>POSITIVE</td>\n",
       "    </tr>\n",
       "    <tr>\n",
       "      <th>...</th>\n",
       "      <td>...</td>\n",
       "      <td>...</td>\n",
       "      <td>...</td>\n",
       "      <td>...</td>\n",
       "      <td>...</td>\n",
       "    </tr>\n",
       "    <tr>\n",
       "      <th>162753</th>\n",
       "      <td>the_joker_ethereal_captain_jack_sparrow_fantastic</td>\n",
       "      <td>Danny Mueller</td>\n",
       "      <td>False</td>\n",
       "      <td>A top-notch thriller with genuine surprises an...</td>\n",
       "      <td>POSITIVE</td>\n",
       "    </tr>\n",
       "    <tr>\n",
       "      <th>162754</th>\n",
       "      <td>e.t._hannibal_lecter_vito_corleone_katniss_eve...</td>\n",
       "      <td>Jennifer Clayton</td>\n",
       "      <td>True</td>\n",
       "      <td>Some people find Derek Zoolander funny and lik...</td>\n",
       "      <td>NEGATIVE</td>\n",
       "    </tr>\n",
       "    <tr>\n",
       "      <th>162755</th>\n",
       "      <td>infinite_enigma_luke_skywalker</td>\n",
       "      <td>Bryan Wilson</td>\n",
       "      <td>False</td>\n",
       "      <td>This fun, gentle comedy focuses mainly on them...</td>\n",
       "      <td>POSITIVE</td>\n",
       "    </tr>\n",
       "    <tr>\n",
       "      <th>162756</th>\n",
       "      <td>emerald_oracle_iron_man_wolverine</td>\n",
       "      <td>Erik Parker</td>\n",
       "      <td>False</td>\n",
       "      <td>The film is rescued by a strong third act, but...</td>\n",
       "      <td>NEGATIVE</td>\n",
       "    </tr>\n",
       "    <tr>\n",
       "      <th>162757</th>\n",
       "      <td>james_t._kirk_phenomenal_zephyr_chronicles</td>\n",
       "      <td>Howard Evans</td>\n",
       "      <td>False</td>\n",
       "      <td>A peerless exercise in stimulus response.</td>\n",
       "      <td>POSITIVE</td>\n",
       "    </tr>\n",
       "  </tbody>\n",
       "</table>\n",
       "<p>162758 rows × 5 columns</p>\n",
       "</div>"
      ],
      "text/plain": [
       "                                                  movieid  \\\n",
       "0                                        marvelous_pirate   \n",
       "1               tony_montana_frodo_baggins_v_rocky_balboa   \n",
       "2       darth_vader_katniss_everdeen_sorcerer_donnie_d...   \n",
       "3                                      lara_croft_glimmer   \n",
       "4       jason_bourne_surreal_the_terminator_indiana_jones   \n",
       "...                                                   ...   \n",
       "162753  the_joker_ethereal_captain_jack_sparrow_fantastic   \n",
       "162754  e.t._hannibal_lecter_vito_corleone_katniss_eve...   \n",
       "162755                     infinite_enigma_luke_skywalker   \n",
       "162756                  emerald_oracle_iron_man_wolverine   \n",
       "162757         james_t._kirk_phenomenal_zephyr_chronicles   \n",
       "\n",
       "               reviewerName  isFrequentReviewer  \\\n",
       "0            Benjamin Henry               False   \n",
       "1             Felicia Lopez               False   \n",
       "2       Mr. Charles Burgess                True   \n",
       "3              Ryan Barrett               False   \n",
       "4          Alexander Glover               False   \n",
       "...                     ...                 ...   \n",
       "162753        Danny Mueller               False   \n",
       "162754     Jennifer Clayton                True   \n",
       "162755         Bryan Wilson               False   \n",
       "162756          Erik Parker               False   \n",
       "162757         Howard Evans               False   \n",
       "\n",
       "                                               reviewText sentiment  \n",
       "0       Henry Selick’s first movie since 2009’s Corali...  POSITIVE  \n",
       "1       With a cast that reads like the Vogue Oscar pa...  NEGATIVE  \n",
       "2       Creed II does not give us anything but another...  POSITIVE  \n",
       "3       I know what you're thinking, but this is no Li...  POSITIVE  \n",
       "4       Director Fernando Meirelles tells the story wi...  POSITIVE  \n",
       "...                                                   ...       ...  \n",
       "162753  A top-notch thriller with genuine surprises an...  POSITIVE  \n",
       "162754  Some people find Derek Zoolander funny and lik...  NEGATIVE  \n",
       "162755  This fun, gentle comedy focuses mainly on them...  POSITIVE  \n",
       "162756  The film is rescued by a strong third act, but...  NEGATIVE  \n",
       "162757          A peerless exercise in stimulus response.  POSITIVE  \n",
       "\n",
       "[162758 rows x 5 columns]"
      ]
     },
     "execution_count": 5,
     "metadata": {},
     "output_type": "execute_result"
    }
   ],
   "source": [
    "train"
   ]
  },
  {
   "cell_type": "code",
   "execution_count": 6,
   "id": "a4d4623e",
   "metadata": {
    "execution": {
     "iopub.execute_input": "2023-07-18T19:06:01.896037Z",
     "iopub.status.busy": "2023-07-18T19:06:01.895645Z",
     "iopub.status.idle": "2023-07-18T19:06:01.902762Z",
     "shell.execute_reply": "2023-07-18T19:06:01.901654Z"
    },
    "papermill": {
     "duration": 0.039151,
     "end_time": "2023-07-18T19:06:01.905648",
     "exception": false,
     "start_time": "2023-07-18T19:06:01.866497",
     "status": "completed"
    },
    "tags": []
   },
   "outputs": [
    {
     "data": {
      "text/plain": [
       "(162758, 5)"
      ]
     },
     "execution_count": 6,
     "metadata": {},
     "output_type": "execute_result"
    }
   ],
   "source": [
    "train.shape"
   ]
  },
  {
   "cell_type": "code",
   "execution_count": 7,
   "id": "027f58a7",
   "metadata": {
    "execution": {
     "iopub.execute_input": "2023-07-18T19:06:01.965627Z",
     "iopub.status.busy": "2023-07-18T19:06:01.965213Z",
     "iopub.status.idle": "2023-07-18T19:06:01.980891Z",
     "shell.execute_reply": "2023-07-18T19:06:01.979683Z"
    },
    "papermill": {
     "duration": 0.049158,
     "end_time": "2023-07-18T19:06:01.983742",
     "exception": false,
     "start_time": "2023-07-18T19:06:01.934584",
     "status": "completed"
    },
    "tags": []
   },
   "outputs": [
    {
     "data": {
      "text/html": [
       "<div>\n",
       "<style scoped>\n",
       "    .dataframe tbody tr th:only-of-type {\n",
       "        vertical-align: middle;\n",
       "    }\n",
       "\n",
       "    .dataframe tbody tr th {\n",
       "        vertical-align: top;\n",
       "    }\n",
       "\n",
       "    .dataframe thead th {\n",
       "        text-align: right;\n",
       "    }\n",
       "</style>\n",
       "<table border=\"1\" class=\"dataframe\">\n",
       "  <thead>\n",
       "    <tr style=\"text-align: right;\">\n",
       "      <th></th>\n",
       "      <th>movieid</th>\n",
       "      <th>reviewerName</th>\n",
       "      <th>isTopCritic</th>\n",
       "      <th>reviewText</th>\n",
       "    </tr>\n",
       "  </thead>\n",
       "  <tbody>\n",
       "    <tr>\n",
       "      <th>0</th>\n",
       "      <td>legend_marty_mcfly_oracle</td>\n",
       "      <td>John Kim</td>\n",
       "      <td>False</td>\n",
       "      <td>Green slowly cranks up the dread with style an...</td>\n",
       "    </tr>\n",
       "    <tr>\n",
       "      <th>1</th>\n",
       "      <td>terminator_katniss_everdeen_glimmer</td>\n",
       "      <td>Brian Chaney</td>\n",
       "      <td>False</td>\n",
       "      <td>Philip Noyce's direction is elegant and unforc...</td>\n",
       "    </tr>\n",
       "    <tr>\n",
       "      <th>2</th>\n",
       "      <td>james_bond_labyrinth_gollum</td>\n",
       "      <td>Danielle Parker</td>\n",
       "      <td>False</td>\n",
       "      <td>It wouldn't do to say what path Maria ultimate...</td>\n",
       "    </tr>\n",
       "    <tr>\n",
       "      <th>3</th>\n",
       "      <td>v_quest_han_solo_wondrous</td>\n",
       "      <td>Brittany Lane</td>\n",
       "      <td>False</td>\n",
       "      <td>Pig is not exactly the arthouse John Wick that...</td>\n",
       "    </tr>\n",
       "    <tr>\n",
       "      <th>4</th>\n",
       "      <td>enigma_hulk_surreal_starlight</td>\n",
       "      <td>Justin Willis</td>\n",
       "      <td>False</td>\n",
       "      <td>An imaginative no-budget musical of sorts abou...</td>\n",
       "    </tr>\n",
       "    <tr>\n",
       "      <th>...</th>\n",
       "      <td>...</td>\n",
       "      <td>...</td>\n",
       "      <td>...</td>\n",
       "      <td>...</td>\n",
       "    </tr>\n",
       "    <tr>\n",
       "      <th>55310</th>\n",
       "      <td>celestial_radiant</td>\n",
       "      <td>Jose Mccormick</td>\n",
       "      <td>False</td>\n",
       "      <td>Ron Howard delivers an unconventional romantic...</td>\n",
       "    </tr>\n",
       "    <tr>\n",
       "      <th>55311</th>\n",
       "      <td>vivid_james_t._kirk</td>\n",
       "      <td>Thomas Osborne</td>\n",
       "      <td>False</td>\n",
       "      <td>As an oddball art film that openly invites you...</td>\n",
       "    </tr>\n",
       "    <tr>\n",
       "      <th>55312</th>\n",
       "      <td>scarlett_o'hara_neo_scarlett_o'hara_infinite</td>\n",
       "      <td>Julie Kirby</td>\n",
       "      <td>False</td>\n",
       "      <td>Nicholson wears his devilish grin from his fir...</td>\n",
       "    </tr>\n",
       "    <tr>\n",
       "      <th>55313</th>\n",
       "      <td>terminator_epic_rocky_balboa_mystic</td>\n",
       "      <td>Tina Sutton</td>\n",
       "      <td>True</td>\n",
       "      <td>It's hard not be entertained by two dozen of C...</td>\n",
       "    </tr>\n",
       "    <tr>\n",
       "      <th>55314</th>\n",
       "      <td>wolverine_enigma_ellis_redding_gandalf</td>\n",
       "      <td>Taylor Wilcox</td>\n",
       "      <td>True</td>\n",
       "      <td>Not clever enough for Smith fans, not gross en...</td>\n",
       "    </tr>\n",
       "  </tbody>\n",
       "</table>\n",
       "<p>55315 rows × 4 columns</p>\n",
       "</div>"
      ],
      "text/plain": [
       "                                            movieid     reviewerName  \\\n",
       "0                         legend_marty_mcfly_oracle         John Kim   \n",
       "1               terminator_katniss_everdeen_glimmer     Brian Chaney   \n",
       "2                       james_bond_labyrinth_gollum  Danielle Parker   \n",
       "3                         v_quest_han_solo_wondrous    Brittany Lane   \n",
       "4                     enigma_hulk_surreal_starlight    Justin Willis   \n",
       "...                                             ...              ...   \n",
       "55310                             celestial_radiant   Jose Mccormick   \n",
       "55311                           vivid_james_t._kirk   Thomas Osborne   \n",
       "55312  scarlett_o'hara_neo_scarlett_o'hara_infinite      Julie Kirby   \n",
       "55313           terminator_epic_rocky_balboa_mystic      Tina Sutton   \n",
       "55314        wolverine_enigma_ellis_redding_gandalf    Taylor Wilcox   \n",
       "\n",
       "       isTopCritic                                         reviewText  \n",
       "0            False  Green slowly cranks up the dread with style an...  \n",
       "1            False  Philip Noyce's direction is elegant and unforc...  \n",
       "2            False  It wouldn't do to say what path Maria ultimate...  \n",
       "3            False  Pig is not exactly the arthouse John Wick that...  \n",
       "4            False  An imaginative no-budget musical of sorts abou...  \n",
       "...            ...                                                ...  \n",
       "55310        False  Ron Howard delivers an unconventional romantic...  \n",
       "55311        False  As an oddball art film that openly invites you...  \n",
       "55312        False  Nicholson wears his devilish grin from his fir...  \n",
       "55313         True  It's hard not be entertained by two dozen of C...  \n",
       "55314         True  Not clever enough for Smith fans, not gross en...  \n",
       "\n",
       "[55315 rows x 4 columns]"
      ]
     },
     "execution_count": 7,
     "metadata": {},
     "output_type": "execute_result"
    }
   ],
   "source": [
    "test"
   ]
  },
  {
   "cell_type": "code",
   "execution_count": 8,
   "id": "652172f6",
   "metadata": {
    "execution": {
     "iopub.execute_input": "2023-07-18T19:06:02.046367Z",
     "iopub.status.busy": "2023-07-18T19:06:02.045907Z",
     "iopub.status.idle": "2023-07-18T19:06:02.053707Z",
     "shell.execute_reply": "2023-07-18T19:06:02.052530Z"
    },
    "papermill": {
     "duration": 0.041532,
     "end_time": "2023-07-18T19:06:02.056236",
     "exception": false,
     "start_time": "2023-07-18T19:06:02.014704",
     "status": "completed"
    },
    "tags": []
   },
   "outputs": [
    {
     "data": {
      "text/plain": [
       "(55315, 4)"
      ]
     },
     "execution_count": 8,
     "metadata": {},
     "output_type": "execute_result"
    }
   ],
   "source": [
    "test.shape"
   ]
  },
  {
   "cell_type": "code",
   "execution_count": 9,
   "id": "61fcaacc",
   "metadata": {
    "execution": {
     "iopub.execute_input": "2023-07-18T19:06:02.115951Z",
     "iopub.status.busy": "2023-07-18T19:06:02.114625Z",
     "iopub.status.idle": "2023-07-18T19:06:02.804607Z",
     "shell.execute_reply": "2023-07-18T19:06:02.803295Z"
    },
    "papermill": {
     "duration": 0.722883,
     "end_time": "2023-07-18T19:06:02.807945",
     "exception": false,
     "start_time": "2023-07-18T19:06:02.085062",
     "status": "completed"
    },
    "tags": []
   },
   "outputs": [],
   "source": [
    "train_movies_df = pd.merge(movies,train,how='inner',on='movieid')\n",
    "test_movies_df = pd.merge(movies,test,how='inner',on='movieid')"
   ]
  },
  {
   "cell_type": "code",
   "execution_count": 10,
   "id": "e37d7ad4",
   "metadata": {
    "execution": {
     "iopub.execute_input": "2023-07-18T19:06:02.870046Z",
     "iopub.status.busy": "2023-07-18T19:06:02.869208Z",
     "iopub.status.idle": "2023-07-18T19:06:02.876939Z",
     "shell.execute_reply": "2023-07-18T19:06:02.875674Z"
    },
    "papermill": {
     "duration": 0.04119,
     "end_time": "2023-07-18T19:06:02.879427",
     "exception": false,
     "start_time": "2023-07-18T19:06:02.838237",
     "status": "completed"
    },
    "tags": []
   },
   "outputs": [
    {
     "data": {
      "text/plain": [
       "(525277, 18)"
      ]
     },
     "execution_count": 10,
     "metadata": {},
     "output_type": "execute_result"
    }
   ],
   "source": [
    "train_movies_df.shape"
   ]
  },
  {
   "cell_type": "code",
   "execution_count": 11,
   "id": "97429485",
   "metadata": {
    "execution": {
     "iopub.execute_input": "2023-07-18T19:06:02.940025Z",
     "iopub.status.busy": "2023-07-18T19:06:02.939532Z",
     "iopub.status.idle": "2023-07-18T19:06:02.949010Z",
     "shell.execute_reply": "2023-07-18T19:06:02.947719Z"
    },
    "papermill": {
     "duration": 0.042856,
     "end_time": "2023-07-18T19:06:02.951518",
     "exception": false,
     "start_time": "2023-07-18T19:06:02.908662",
     "status": "completed"
    },
    "tags": []
   },
   "outputs": [
    {
     "data": {
      "text/plain": [
       "(172615, 17)"
      ]
     },
     "execution_count": 11,
     "metadata": {},
     "output_type": "execute_result"
    }
   ],
   "source": [
    "test_movies_df.shape"
   ]
  },
  {
   "cell_type": "code",
   "execution_count": 12,
   "id": "b3bb9dd1",
   "metadata": {
    "execution": {
     "iopub.execute_input": "2023-07-18T19:06:03.013216Z",
     "iopub.status.busy": "2023-07-18T19:06:03.012819Z",
     "iopub.status.idle": "2023-07-18T19:06:05.331327Z",
     "shell.execute_reply": "2023-07-18T19:06:05.329579Z"
    },
    "papermill": {
     "duration": 2.355454,
     "end_time": "2023-07-18T19:06:05.336278",
     "exception": false,
     "start_time": "2023-07-18T19:06:02.980824",
     "status": "completed"
    },
    "tags": []
   },
   "outputs": [
    {
     "data": {
      "text/plain": [
       "movieid                      0\n",
       "title                        0\n",
       "audienceScore           300829\n",
       "rating                  390791\n",
       "ratingContents          390791\n",
       "releaseDateTheaters     342951\n",
       "releaseDateStreaming    275844\n",
       "runtimeMinutes          222688\n",
       "genre                   217333\n",
       "originalLanguage        220455\n",
       "director                     0\n",
       "boxOffice               380216\n",
       "distributor             355592\n",
       "soundType               415919\n",
       "reviewerName                 0\n",
       "isFrequentReviewer           0\n",
       "reviewText               23817\n",
       "sentiment                    0\n",
       "dtype: int64"
      ]
     },
     "execution_count": 12,
     "metadata": {},
     "output_type": "execute_result"
    }
   ],
   "source": [
    "train_movies_df.isna().sum()"
   ]
  },
  {
   "cell_type": "code",
   "execution_count": 13,
   "id": "d11a9fd7",
   "metadata": {
    "execution": {
     "iopub.execute_input": "2023-07-18T19:06:05.412671Z",
     "iopub.status.busy": "2023-07-18T19:06:05.412171Z",
     "iopub.status.idle": "2023-07-18T19:06:06.136012Z",
     "shell.execute_reply": "2023-07-18T19:06:06.134978Z"
    },
    "papermill": {
     "duration": 0.76294,
     "end_time": "2023-07-18T19:06:06.138504",
     "exception": false,
     "start_time": "2023-07-18T19:06:05.375564",
     "status": "completed"
    },
    "tags": []
   },
   "outputs": [
    {
     "data": {
      "text/plain": [
       "movieid                      0\n",
       "title                        0\n",
       "audienceScore            98204\n",
       "rating                  130565\n",
       "ratingContents          130565\n",
       "releaseDateTheaters     113625\n",
       "releaseDateStreaming     90172\n",
       "runtimeMinutes           72478\n",
       "genre                    70701\n",
       "originalLanguage         71715\n",
       "director                     0\n",
       "boxOffice               126423\n",
       "distributor             118039\n",
       "soundType               137908\n",
       "reviewerName                 0\n",
       "isTopCritic                  0\n",
       "reviewText                8496\n",
       "dtype: int64"
      ]
     },
     "execution_count": 13,
     "metadata": {},
     "output_type": "execute_result"
    }
   ],
   "source": [
    "test_movies_df.isna().sum()"
   ]
  },
  {
   "cell_type": "markdown",
   "id": "1adf471c",
   "metadata": {
    "papermill": {
     "duration": 0.050862,
     "end_time": "2023-07-18T19:06:06.218717",
     "exception": false,
     "start_time": "2023-07-18T19:06:06.167855",
     "status": "completed"
    },
    "tags": []
   },
   "source": [
    "# Split the data into train and test"
   ]
  },
  {
   "cell_type": "code",
   "execution_count": 14,
   "id": "b689c819",
   "metadata": {
    "execution": {
     "iopub.execute_input": "2023-07-18T19:06:06.280313Z",
     "iopub.status.busy": "2023-07-18T19:06:06.279533Z",
     "iopub.status.idle": "2023-07-18T19:06:06.701445Z",
     "shell.execute_reply": "2023-07-18T19:06:06.700367Z"
    },
    "papermill": {
     "duration": 0.456634,
     "end_time": "2023-07-18T19:06:06.704245",
     "exception": false,
     "start_time": "2023-07-18T19:06:06.247611",
     "status": "completed"
    },
    "tags": []
   },
   "outputs": [],
   "source": [
    "y_train = train_movies_df.iloc[:,[-1]]\n",
    "X_train = train_movies_df.iloc[:,[2,7,15]]"
   ]
  },
  {
   "cell_type": "code",
   "execution_count": 15,
   "id": "f00bf027",
   "metadata": {
    "execution": {
     "iopub.execute_input": "2023-07-18T19:06:06.766042Z",
     "iopub.status.busy": "2023-07-18T19:06:06.765201Z",
     "iopub.status.idle": "2023-07-18T19:06:06.862634Z",
     "shell.execute_reply": "2023-07-18T19:06:06.861397Z"
    },
    "papermill": {
     "duration": 0.131311,
     "end_time": "2023-07-18T19:06:06.865650",
     "exception": false,
     "start_time": "2023-07-18T19:06:06.734339",
     "status": "completed"
    },
    "tags": []
   },
   "outputs": [],
   "source": [
    "X_test = test_movies_df.iloc[:,[2,7,15]]"
   ]
  },
  {
   "cell_type": "markdown",
   "id": "a84b64d1",
   "metadata": {
    "papermill": {
     "duration": 0.028698,
     "end_time": "2023-07-18T19:06:06.923432",
     "exception": false,
     "start_time": "2023-07-18T19:06:06.894734",
     "status": "completed"
    },
    "tags": []
   },
   "source": [
    "# Dummy Classifier"
   ]
  },
  {
   "cell_type": "code",
   "execution_count": 16,
   "id": "c967a978",
   "metadata": {
    "execution": {
     "iopub.execute_input": "2023-07-18T19:06:06.984625Z",
     "iopub.status.busy": "2023-07-18T19:06:06.983634Z",
     "iopub.status.idle": "2023-07-18T19:06:06.989007Z",
     "shell.execute_reply": "2023-07-18T19:06:06.987962Z"
    },
    "papermill": {
     "duration": 0.038747,
     "end_time": "2023-07-18T19:06:06.991428",
     "exception": false,
     "start_time": "2023-07-18T19:06:06.952681",
     "status": "completed"
    },
    "tags": []
   },
   "outputs": [],
   "source": [
    "dummy_clf = DummyClassifier()"
   ]
  },
  {
   "cell_type": "code",
   "execution_count": 17,
   "id": "c6b602e6",
   "metadata": {
    "execution": {
     "iopub.execute_input": "2023-07-18T19:06:07.054112Z",
     "iopub.status.busy": "2023-07-18T19:06:07.053241Z",
     "iopub.status.idle": "2023-07-18T19:06:07.839131Z",
     "shell.execute_reply": "2023-07-18T19:06:07.837633Z"
    },
    "papermill": {
     "duration": 0.819661,
     "end_time": "2023-07-18T19:06:07.842211",
     "exception": false,
     "start_time": "2023-07-18T19:06:07.022550",
     "status": "completed"
    },
    "tags": []
   },
   "outputs": [
    {
     "data": {
      "text/html": [
       "<style>#sk-container-id-1 {color: black;background-color: white;}#sk-container-id-1 pre{padding: 0;}#sk-container-id-1 div.sk-toggleable {background-color: white;}#sk-container-id-1 label.sk-toggleable__label {cursor: pointer;display: block;width: 100%;margin-bottom: 0;padding: 0.3em;box-sizing: border-box;text-align: center;}#sk-container-id-1 label.sk-toggleable__label-arrow:before {content: \"▸\";float: left;margin-right: 0.25em;color: #696969;}#sk-container-id-1 label.sk-toggleable__label-arrow:hover:before {color: black;}#sk-container-id-1 div.sk-estimator:hover label.sk-toggleable__label-arrow:before {color: black;}#sk-container-id-1 div.sk-toggleable__content {max-height: 0;max-width: 0;overflow: hidden;text-align: left;background-color: #f0f8ff;}#sk-container-id-1 div.sk-toggleable__content pre {margin: 0.2em;color: black;border-radius: 0.25em;background-color: #f0f8ff;}#sk-container-id-1 input.sk-toggleable__control:checked~div.sk-toggleable__content {max-height: 200px;max-width: 100%;overflow: auto;}#sk-container-id-1 input.sk-toggleable__control:checked~label.sk-toggleable__label-arrow:before {content: \"▾\";}#sk-container-id-1 div.sk-estimator input.sk-toggleable__control:checked~label.sk-toggleable__label {background-color: #d4ebff;}#sk-container-id-1 div.sk-label input.sk-toggleable__control:checked~label.sk-toggleable__label {background-color: #d4ebff;}#sk-container-id-1 input.sk-hidden--visually {border: 0;clip: rect(1px 1px 1px 1px);clip: rect(1px, 1px, 1px, 1px);height: 1px;margin: -1px;overflow: hidden;padding: 0;position: absolute;width: 1px;}#sk-container-id-1 div.sk-estimator {font-family: monospace;background-color: #f0f8ff;border: 1px dotted black;border-radius: 0.25em;box-sizing: border-box;margin-bottom: 0.5em;}#sk-container-id-1 div.sk-estimator:hover {background-color: #d4ebff;}#sk-container-id-1 div.sk-parallel-item::after {content: \"\";width: 100%;border-bottom: 1px solid gray;flex-grow: 1;}#sk-container-id-1 div.sk-label:hover label.sk-toggleable__label {background-color: #d4ebff;}#sk-container-id-1 div.sk-serial::before {content: \"\";position: absolute;border-left: 1px solid gray;box-sizing: border-box;top: 0;bottom: 0;left: 50%;z-index: 0;}#sk-container-id-1 div.sk-serial {display: flex;flex-direction: column;align-items: center;background-color: white;padding-right: 0.2em;padding-left: 0.2em;position: relative;}#sk-container-id-1 div.sk-item {position: relative;z-index: 1;}#sk-container-id-1 div.sk-parallel {display: flex;align-items: stretch;justify-content: center;background-color: white;position: relative;}#sk-container-id-1 div.sk-item::before, #sk-container-id-1 div.sk-parallel-item::before {content: \"\";position: absolute;border-left: 1px solid gray;box-sizing: border-box;top: 0;bottom: 0;left: 50%;z-index: -1;}#sk-container-id-1 div.sk-parallel-item {display: flex;flex-direction: column;z-index: 1;position: relative;background-color: white;}#sk-container-id-1 div.sk-parallel-item:first-child::after {align-self: flex-end;width: 50%;}#sk-container-id-1 div.sk-parallel-item:last-child::after {align-self: flex-start;width: 50%;}#sk-container-id-1 div.sk-parallel-item:only-child::after {width: 0;}#sk-container-id-1 div.sk-dashed-wrapped {border: 1px dashed gray;margin: 0 0.4em 0.5em 0.4em;box-sizing: border-box;padding-bottom: 0.4em;background-color: white;}#sk-container-id-1 div.sk-label label {font-family: monospace;font-weight: bold;display: inline-block;line-height: 1.2em;}#sk-container-id-1 div.sk-label-container {text-align: center;}#sk-container-id-1 div.sk-container {/* jupyter's `normalize.less` sets `[hidden] { display: none; }` but bootstrap.min.css set `[hidden] { display: none !important; }` so we also need the `!important` here to be able to override the default hidden behavior on the sphinx rendered scikit-learn.org. See: https://github.com/scikit-learn/scikit-learn/issues/21755 */display: inline-block !important;position: relative;}#sk-container-id-1 div.sk-text-repr-fallback {display: none;}</style><div id=\"sk-container-id-1\" class=\"sk-top-container\"><div class=\"sk-text-repr-fallback\"><pre>DummyClassifier()</pre><b>In a Jupyter environment, please rerun this cell to show the HTML representation or trust the notebook. <br />On GitHub, the HTML representation is unable to render, please try loading this page with nbviewer.org.</b></div><div class=\"sk-container\" hidden><div class=\"sk-item\"><div class=\"sk-estimator sk-toggleable\"><input class=\"sk-toggleable__control sk-hidden--visually\" id=\"sk-estimator-id-1\" type=\"checkbox\" checked><label for=\"sk-estimator-id-1\" class=\"sk-toggleable__label sk-toggleable__label-arrow\">DummyClassifier</label><div class=\"sk-toggleable__content\"><pre>DummyClassifier()</pre></div></div></div></div></div>"
      ],
      "text/plain": [
       "DummyClassifier()"
      ]
     },
     "execution_count": 17,
     "metadata": {},
     "output_type": "execute_result"
    }
   ],
   "source": [
    "dummy_clf.fit(X_train, y_train)"
   ]
  },
  {
   "cell_type": "code",
   "execution_count": 18,
   "id": "7b25f38b",
   "metadata": {
    "execution": {
     "iopub.execute_input": "2023-07-18T19:06:07.902288Z",
     "iopub.status.busy": "2023-07-18T19:06:07.901896Z",
     "iopub.status.idle": "2023-07-18T19:06:07.908375Z",
     "shell.execute_reply": "2023-07-18T19:06:07.907149Z"
    },
    "papermill": {
     "duration": 0.039235,
     "end_time": "2023-07-18T19:06:07.910754",
     "exception": false,
     "start_time": "2023-07-18T19:06:07.871519",
     "status": "completed"
    },
    "tags": []
   },
   "outputs": [],
   "source": [
    "output = dummy_clf.predict(test)"
   ]
  },
  {
   "cell_type": "code",
   "execution_count": 19,
   "id": "5f2acb64",
   "metadata": {
    "execution": {
     "iopub.execute_input": "2023-07-18T19:06:07.972399Z",
     "iopub.status.busy": "2023-07-18T19:06:07.971949Z",
     "iopub.status.idle": "2023-07-18T19:06:07.985186Z",
     "shell.execute_reply": "2023-07-18T19:06:07.983848Z"
    },
    "papermill": {
     "duration": 0.047506,
     "end_time": "2023-07-18T19:06:07.988049",
     "exception": false,
     "start_time": "2023-07-18T19:06:07.940543",
     "status": "completed"
    },
    "tags": []
   },
   "outputs": [],
   "source": [
    "y_train_predict = dummy_clf.predict(X_train)"
   ]
  },
  {
   "cell_type": "code",
   "execution_count": 20,
   "id": "6a457608",
   "metadata": {
    "execution": {
     "iopub.execute_input": "2023-07-18T19:06:08.052485Z",
     "iopub.status.busy": "2023-07-18T19:06:08.052009Z",
     "iopub.status.idle": "2023-07-18T19:06:08.065873Z",
     "shell.execute_reply": "2023-07-18T19:06:08.064477Z"
    },
    "papermill": {
     "duration": 0.047427,
     "end_time": "2023-07-18T19:06:08.068288",
     "exception": false,
     "start_time": "2023-07-18T19:06:08.020861",
     "status": "completed"
    },
    "tags": []
   },
   "outputs": [],
   "source": [
    "df = pd.DataFrame(data=output,columns=['sentiment'])"
   ]
  },
  {
   "cell_type": "code",
   "execution_count": 21,
   "id": "cdd55a06",
   "metadata": {
    "execution": {
     "iopub.execute_input": "2023-07-18T19:06:08.128523Z",
     "iopub.status.busy": "2023-07-18T19:06:08.128088Z",
     "iopub.status.idle": "2023-07-18T19:06:08.135868Z",
     "shell.execute_reply": "2023-07-18T19:06:08.134513Z"
    },
    "papermill": {
     "duration": 0.041106,
     "end_time": "2023-07-18T19:06:08.138347",
     "exception": false,
     "start_time": "2023-07-18T19:06:08.097241",
     "status": "completed"
    },
    "tags": []
   },
   "outputs": [
    {
     "data": {
      "text/plain": [
       "(55315, 1)"
      ]
     },
     "execution_count": 21,
     "metadata": {},
     "output_type": "execute_result"
    }
   ],
   "source": [
    "df.shape"
   ]
  },
  {
   "cell_type": "code",
   "execution_count": 22,
   "id": "fd6d2ce5",
   "metadata": {
    "execution": {
     "iopub.execute_input": "2023-07-18T19:06:08.198834Z",
     "iopub.status.busy": "2023-07-18T19:06:08.198316Z",
     "iopub.status.idle": "2023-07-18T19:06:15.293827Z",
     "shell.execute_reply": "2023-07-18T19:06:15.292135Z"
    },
    "papermill": {
     "duration": 7.129375,
     "end_time": "2023-07-18T19:06:15.296873",
     "exception": false,
     "start_time": "2023-07-18T19:06:08.167498",
     "status": "completed"
    },
    "tags": []
   },
   "outputs": [
    {
     "data": {
      "image/png": "[encoded data removed]",
      "text/plain": [
       "<Figure size 640x480 with 2 Axes>"
      ]
     },
     "metadata": {},
     "output_type": "display_data"
    }
   ],
   "source": [
    "cm_display = ConfusionMatrixDisplay.from_predictions(y_train,y_train_predict,values_format='.5g')\n",
    "plt.show()"
   ]
  },
  {
   "cell_type": "code",
   "execution_count": 23,
   "id": "73dff7be",
   "metadata": {
    "execution": {
     "iopub.execute_input": "2023-07-18T19:06:15.375017Z",
     "iopub.status.busy": "2023-07-18T19:06:15.373978Z",
     "iopub.status.idle": "2023-07-18T19:06:59.225414Z",
     "shell.execute_reply": "2023-07-18T19:06:59.223897Z"
    },
    "papermill": {
     "duration": 43.925195,
     "end_time": "2023-07-18T19:06:59.258466",
     "exception": false,
     "start_time": "2023-07-18T19:06:15.333271",
     "status": "completed"
    },
    "tags": []
   },
   "outputs": [
    {
     "name": "stdout",
     "output_type": "stream",
     "text": [
      "              precision    recall  f1-score   support\n",
      "\n",
      "    NEGATIVE       0.00      0.00      0.00    174694\n",
      "    POSITIVE       0.67      1.00      0.80    350583\n",
      "\n",
      "    accuracy                           0.67    525277\n",
      "   macro avg       0.33      0.50      0.40    525277\n",
      "weighted avg       0.45      0.67      0.53    525277\n",
      "\n"
     ]
    }
   ],
   "source": [
    "print(classification_report(y_train,y_train_predict,zero_division=0))"
   ]
  },
  {
   "cell_type": "code",
   "execution_count": 24,
   "id": "29d32270",
   "metadata": {
    "execution": {
     "iopub.execute_input": "2023-07-18T19:06:59.323188Z",
     "iopub.status.busy": "2023-07-18T19:06:59.322673Z",
     "iopub.status.idle": "2023-07-18T19:06:59.327902Z",
     "shell.execute_reply": "2023-07-18T19:06:59.326900Z"
    },
    "papermill": {
     "duration": 0.041063,
     "end_time": "2023-07-18T19:06:59.330138",
     "exception": false,
     "start_time": "2023-07-18T19:06:59.289075",
     "status": "completed"
    },
    "tags": []
   },
   "outputs": [],
   "source": [
    "#df.to_csv('submission.csv',index_label='id')"
   ]
  },
  {
   "cell_type": "markdown",
   "id": "8c268923",
   "metadata": {
    "papermill": {
     "duration": 0.032857,
     "end_time": "2023-07-18T19:06:59.394617",
     "exception": false,
     "start_time": "2023-07-18T19:06:59.361760",
     "status": "completed"
    },
    "tags": []
   },
   "source": [
    "# Logistic Regression"
   ]
  },
  {
   "cell_type": "code",
   "execution_count": 25,
   "id": "2ffde745",
   "metadata": {
    "execution": {
     "iopub.execute_input": "2023-07-18T19:06:59.459815Z",
     "iopub.status.busy": "2023-07-18T19:06:59.459159Z",
     "iopub.status.idle": "2023-07-18T19:06:59.467086Z",
     "shell.execute_reply": "2023-07-18T19:06:59.465906Z"
    },
    "papermill": {
     "duration": 0.043868,
     "end_time": "2023-07-18T19:06:59.470144",
     "exception": false,
     "start_time": "2023-07-18T19:06:59.426276",
     "status": "completed"
    },
    "tags": []
   },
   "outputs": [],
   "source": [
    "model = LogisticRegression()\n",
    "solvers = ['saga', 'sag']\n",
    "penalty = ['l2']\n",
    "c_values = [100, 10, 1.0, 0.1, 0.01]\n",
    "max_iter =[10000]\n",
    "grid = dict(solver=solvers,penalty=penalty,C=c_values,max_iter=max_iter)\n"
   ]
  },
  {
   "cell_type": "code",
   "execution_count": 26,
   "id": "afa6fb20",
   "metadata": {
    "execution": {
     "iopub.execute_input": "2023-07-18T19:06:59.534358Z",
     "iopub.status.busy": "2023-07-18T19:06:59.533912Z",
     "iopub.status.idle": "2023-07-18T19:06:59.539421Z",
     "shell.execute_reply": "2023-07-18T19:06:59.538154Z"
    },
    "papermill": {
     "duration": 0.040517,
     "end_time": "2023-07-18T19:06:59.542078",
     "exception": false,
     "start_time": "2023-07-18T19:06:59.501561",
     "status": "completed"
    },
    "tags": []
   },
   "outputs": [],
   "source": [
    "grid_search = GridSearchCV(estimator=model, param_grid=grid, n_jobs=-1,scoring='accuracy',error_score=0)"
   ]
  },
  {
   "cell_type": "code",
   "execution_count": 27,
   "id": "541a24ec",
   "metadata": {
    "execution": {
     "iopub.execute_input": "2023-07-18T19:06:59.607080Z",
     "iopub.status.busy": "2023-07-18T19:06:59.605922Z",
     "iopub.status.idle": "2023-07-18T19:06:59.628222Z",
     "shell.execute_reply": "2023-07-18T19:06:59.626899Z"
    },
    "papermill": {
     "duration": 0.057069,
     "end_time": "2023-07-18T19:06:59.630954",
     "exception": false,
     "start_time": "2023-07-18T19:06:59.573885",
     "status": "completed"
    },
    "tags": []
   },
   "outputs": [
    {
     "name": "stdout",
     "output_type": "stream",
     "text": [
      "<class 'pandas.core.frame.DataFrame'>\n",
      "Int64Index: 525277 entries, 0 to 525276\n",
      "Data columns (total 3 columns):\n",
      " #   Column              Non-Null Count   Dtype  \n",
      "---  ------              --------------   -----  \n",
      " 0   audienceScore       224448 non-null  float64\n",
      " 1   runtimeMinutes      302589 non-null  float64\n",
      " 2   isFrequentReviewer  525277 non-null  bool   \n",
      "dtypes: bool(1), float64(2)\n",
      "memory usage: 12.5 MB\n"
     ]
    }
   ],
   "source": [
    "X_train.info()"
   ]
  },
  {
   "cell_type": "code",
   "execution_count": 28,
   "id": "e6bd997e",
   "metadata": {
    "execution": {
     "iopub.execute_input": "2023-07-18T19:06:59.697989Z",
     "iopub.status.busy": "2023-07-18T19:06:59.695329Z",
     "iopub.status.idle": "2023-07-18T19:06:59.703311Z",
     "shell.execute_reply": "2023-07-18T19:06:59.702299Z"
    },
    "papermill": {
     "duration": 0.043754,
     "end_time": "2023-07-18T19:06:59.705885",
     "exception": false,
     "start_time": "2023-07-18T19:06:59.662131",
     "status": "completed"
    },
    "tags": []
   },
   "outputs": [],
   "source": [
    "num_pipeline = Pipeline([('selector',ColumnTransformer([('select_first_2',\n",
    "                                                         'passthrough',\n",
    "                                                         slice(0,2))])),\n",
    "                         ('imputer',SimpleImputer(strategy=\"mean\")),\n",
    "                         ('std_scaler',StandardScaler()),\n",
    "                        ])"
   ]
  },
  {
   "cell_type": "code",
   "execution_count": 29,
   "id": "10aa685b",
   "metadata": {
    "execution": {
     "iopub.execute_input": "2023-07-18T19:06:59.769481Z",
     "iopub.status.busy": "2023-07-18T19:06:59.768517Z",
     "iopub.status.idle": "2023-07-18T19:06:59.776264Z",
     "shell.execute_reply": "2023-07-18T19:06:59.774972Z"
    },
    "papermill": {
     "duration": 0.042671,
     "end_time": "2023-07-18T19:06:59.778939",
     "exception": false,
     "start_time": "2023-07-18T19:06:59.736268",
     "status": "completed"
    },
    "tags": []
   },
   "outputs": [],
   "source": [
    "cat_pipeline = ColumnTransformer([('ordinal_encoder',OrdinalEncoder(),[2]),\n",
    "                                ])"
   ]
  },
  {
   "cell_type": "code",
   "execution_count": 30,
   "id": "b4977fa5",
   "metadata": {
    "execution": {
     "iopub.execute_input": "2023-07-18T19:06:59.842883Z",
     "iopub.status.busy": "2023-07-18T19:06:59.842410Z",
     "iopub.status.idle": "2023-07-18T19:06:59.860503Z",
     "shell.execute_reply": "2023-07-18T19:06:59.859241Z"
    },
    "papermill": {
     "duration": 0.052697,
     "end_time": "2023-07-18T19:06:59.863052",
     "exception": false,
     "start_time": "2023-07-18T19:06:59.810355",
     "status": "completed"
    },
    "tags": []
   },
   "outputs": [
    {
     "data": {
      "text/html": [
       "<div>\n",
       "<style scoped>\n",
       "    .dataframe tbody tr th:only-of-type {\n",
       "        vertical-align: middle;\n",
       "    }\n",
       "\n",
       "    .dataframe tbody tr th {\n",
       "        vertical-align: top;\n",
       "    }\n",
       "\n",
       "    .dataframe thead th {\n",
       "        text-align: right;\n",
       "    }\n",
       "</style>\n",
       "<table border=\"1\" class=\"dataframe\">\n",
       "  <thead>\n",
       "    <tr style=\"text-align: right;\">\n",
       "      <th></th>\n",
       "      <th>audienceScore</th>\n",
       "      <th>runtimeMinutes</th>\n",
       "      <th>isFrequentReviewer</th>\n",
       "    </tr>\n",
       "  </thead>\n",
       "  <tbody>\n",
       "    <tr>\n",
       "      <th>0</th>\n",
       "      <td>65.0</td>\n",
       "      <td>120.0</td>\n",
       "      <td>False</td>\n",
       "    </tr>\n",
       "    <tr>\n",
       "      <th>1</th>\n",
       "      <td>65.0</td>\n",
       "      <td>120.0</td>\n",
       "      <td>False</td>\n",
       "    </tr>\n",
       "    <tr>\n",
       "      <th>2</th>\n",
       "      <td>65.0</td>\n",
       "      <td>120.0</td>\n",
       "      <td>False</td>\n",
       "    </tr>\n",
       "    <tr>\n",
       "      <th>3</th>\n",
       "      <td>65.0</td>\n",
       "      <td>120.0</td>\n",
       "      <td>False</td>\n",
       "    </tr>\n",
       "    <tr>\n",
       "      <th>4</th>\n",
       "      <td>65.0</td>\n",
       "      <td>120.0</td>\n",
       "      <td>True</td>\n",
       "    </tr>\n",
       "    <tr>\n",
       "      <th>...</th>\n",
       "      <td>...</td>\n",
       "      <td>...</td>\n",
       "      <td>...</td>\n",
       "    </tr>\n",
       "    <tr>\n",
       "      <th>525272</th>\n",
       "      <td>47.0</td>\n",
       "      <td>86.0</td>\n",
       "      <td>True</td>\n",
       "    </tr>\n",
       "    <tr>\n",
       "      <th>525273</th>\n",
       "      <td>47.0</td>\n",
       "      <td>86.0</td>\n",
       "      <td>False</td>\n",
       "    </tr>\n",
       "    <tr>\n",
       "      <th>525274</th>\n",
       "      <td>47.0</td>\n",
       "      <td>86.0</td>\n",
       "      <td>True</td>\n",
       "    </tr>\n",
       "    <tr>\n",
       "      <th>525275</th>\n",
       "      <td>47.0</td>\n",
       "      <td>86.0</td>\n",
       "      <td>True</td>\n",
       "    </tr>\n",
       "    <tr>\n",
       "      <th>525276</th>\n",
       "      <td>47.0</td>\n",
       "      <td>86.0</td>\n",
       "      <td>False</td>\n",
       "    </tr>\n",
       "  </tbody>\n",
       "</table>\n",
       "<p>525277 rows × 3 columns</p>\n",
       "</div>"
      ],
      "text/plain": [
       "        audienceScore  runtimeMinutes  isFrequentReviewer\n",
       "0                65.0           120.0               False\n",
       "1                65.0           120.0               False\n",
       "2                65.0           120.0               False\n",
       "3                65.0           120.0               False\n",
       "4                65.0           120.0                True\n",
       "...               ...             ...                 ...\n",
       "525272           47.0            86.0                True\n",
       "525273           47.0            86.0               False\n",
       "525274           47.0            86.0                True\n",
       "525275           47.0            86.0                True\n",
       "525276           47.0            86.0               False\n",
       "\n",
       "[525277 rows x 3 columns]"
      ]
     },
     "execution_count": 30,
     "metadata": {},
     "output_type": "execute_result"
    }
   ],
   "source": [
    "X_train"
   ]
  },
  {
   "cell_type": "code",
   "execution_count": 31,
   "id": "b57a768f",
   "metadata": {
    "execution": {
     "iopub.execute_input": "2023-07-18T19:06:59.927476Z",
     "iopub.status.busy": "2023-07-18T19:06:59.926759Z",
     "iopub.status.idle": "2023-07-18T19:06:59.931601Z",
     "shell.execute_reply": "2023-07-18T19:06:59.930849Z"
    },
    "papermill": {
     "duration": 0.039717,
     "end_time": "2023-07-18T19:06:59.934155",
     "exception": false,
     "start_time": "2023-07-18T19:06:59.894438",
     "status": "completed"
    },
    "tags": []
   },
   "outputs": [],
   "source": [
    "full_pipeline = FeatureUnion(transformer_list=\n",
    "                             [(\"num_pipeline\",num_pipeline),\n",
    "                              (\"cat_pipeline\",cat_pipeline),\n",
    "                             ])"
   ]
  },
  {
   "cell_type": "code",
   "execution_count": 32,
   "id": "8c9bc7bf",
   "metadata": {
    "execution": {
     "iopub.execute_input": "2023-07-18T19:06:59.998193Z",
     "iopub.status.busy": "2023-07-18T19:06:59.997743Z",
     "iopub.status.idle": "2023-07-18T19:07:00.035316Z",
     "shell.execute_reply": "2023-07-18T19:07:00.034483Z"
    },
    "papermill": {
     "duration": 0.072239,
     "end_time": "2023-07-18T19:07:00.037482",
     "exception": false,
     "start_time": "2023-07-18T19:06:59.965243",
     "status": "completed"
    },
    "tags": []
   },
   "outputs": [
    {
     "data": {
      "text/html": [
       "<style>#sk-container-id-2 {color: black;background-color: white;}#sk-container-id-2 pre{padding: 0;}#sk-container-id-2 div.sk-toggleable {background-color: white;}#sk-container-id-2 label.sk-toggleable__label {cursor: pointer;display: block;width: 100%;margin-bottom: 0;padding: 0.3em;box-sizing: border-box;text-align: center;}#sk-container-id-2 label.sk-toggleable__label-arrow:before {content: \"▸\";float: left;margin-right: 0.25em;color: #696969;}#sk-container-id-2 label.sk-toggleable__label-arrow:hover:before {color: black;}#sk-container-id-2 div.sk-estimator:hover label.sk-toggleable__label-arrow:before {color: black;}#sk-container-id-2 div.sk-toggleable__content {max-height: 0;max-width: 0;overflow: hidden;text-align: left;background-color: #f0f8ff;}#sk-container-id-2 div.sk-toggleable__content pre {margin: 0.2em;color: black;border-radius: 0.25em;background-color: #f0f8ff;}#sk-container-id-2 input.sk-toggleable__control:checked~div.sk-toggleable__content {max-height: 200px;max-width: 100%;overflow: auto;}#sk-container-id-2 input.sk-toggleable__control:checked~label.sk-toggleable__label-arrow:before {content: \"▾\";}#sk-container-id-2 div.sk-estimator input.sk-toggleable__control:checked~label.sk-toggleable__label {background-color: #d4ebff;}#sk-container-id-2 div.sk-label input.sk-toggleable__control:checked~label.sk-toggleable__label {background-color: #d4ebff;}#sk-container-id-2 input.sk-hidden--visually {border: 0;clip: rect(1px 1px 1px 1px);clip: rect(1px, 1px, 1px, 1px);height: 1px;margin: -1px;overflow: hidden;padding: 0;position: absolute;width: 1px;}#sk-container-id-2 div.sk-estimator {font-family: monospace;background-color: #f0f8ff;border: 1px dotted black;border-radius: 0.25em;box-sizing: border-box;margin-bottom: 0.5em;}#sk-container-id-2 div.sk-estimator:hover {background-color: #d4ebff;}#sk-container-id-2 div.sk-parallel-item::after {content: \"\";width: 100%;border-bottom: 1px solid gray;flex-grow: 1;}#sk-container-id-2 div.sk-label:hover label.sk-toggleable__label {background-color: #d4ebff;}#sk-container-id-2 div.sk-serial::before {content: \"\";position: absolute;border-left: 1px solid gray;box-sizing: border-box;top: 0;bottom: 0;left: 50%;z-index: 0;}#sk-container-id-2 div.sk-serial {display: flex;flex-direction: column;align-items: center;background-color: white;padding-right: 0.2em;padding-left: 0.2em;position: relative;}#sk-container-id-2 div.sk-item {position: relative;z-index: 1;}#sk-container-id-2 div.sk-parallel {display: flex;align-items: stretch;justify-content: center;background-color: white;position: relative;}#sk-container-id-2 div.sk-item::before, #sk-container-id-2 div.sk-parallel-item::before {content: \"\";position: absolute;border-left: 1px solid gray;box-sizing: border-box;top: 0;bottom: 0;left: 50%;z-index: -1;}#sk-container-id-2 div.sk-parallel-item {display: flex;flex-direction: column;z-index: 1;position: relative;background-color: white;}#sk-container-id-2 div.sk-parallel-item:first-child::after {align-self: flex-end;width: 50%;}#sk-container-id-2 div.sk-parallel-item:last-child::after {align-self: flex-start;width: 50%;}#sk-container-id-2 div.sk-parallel-item:only-child::after {width: 0;}#sk-container-id-2 div.sk-dashed-wrapped {border: 1px dashed gray;margin: 0 0.4em 0.5em 0.4em;box-sizing: border-box;padding-bottom: 0.4em;background-color: white;}#sk-container-id-2 div.sk-label label {font-family: monospace;font-weight: bold;display: inline-block;line-height: 1.2em;}#sk-container-id-2 div.sk-label-container {text-align: center;}#sk-container-id-2 div.sk-container {/* jupyter's `normalize.less` sets `[hidden] { display: none; }` but bootstrap.min.css set `[hidden] { display: none !important; }` so we also need the `!important` here to be able to override the default hidden behavior on the sphinx rendered scikit-learn.org. See: https://github.com/scikit-learn/scikit-learn/issues/21755 */display: inline-block !important;position: relative;}#sk-container-id-2 div.sk-text-repr-fallback {display: none;}</style><div id=\"sk-container-id-2\" class=\"sk-top-container\"><div class=\"sk-text-repr-fallback\"><pre>FeatureUnion(transformer_list=[(&#x27;num_pipeline&#x27;,\n",
       "                                Pipeline(steps=[(&#x27;selector&#x27;,\n",
       "                                                 ColumnTransformer(transformers=[(&#x27;select_first_2&#x27;,\n",
       "                                                                                  &#x27;passthrough&#x27;,\n",
       "                                                                                  slice(0, 2, None))])),\n",
       "                                                (&#x27;imputer&#x27;, SimpleImputer()),\n",
       "                                                (&#x27;std_scaler&#x27;,\n",
       "                                                 StandardScaler())])),\n",
       "                               (&#x27;cat_pipeline&#x27;,\n",
       "                                ColumnTransformer(transformers=[(&#x27;ordinal_encoder&#x27;,\n",
       "                                                                 OrdinalEncoder(),\n",
       "                                                                 [2])]))])</pre><b>In a Jupyter environment, please rerun this cell to show the HTML representation or trust the notebook. <br />On GitHub, the HTML representation is unable to render, please try loading this page with nbviewer.org.</b></div><div class=\"sk-container\" hidden><div class=\"sk-item sk-dashed-wrapped\"><div class=\"sk-label-container\"><div class=\"sk-label sk-toggleable\"><input class=\"sk-toggleable__control sk-hidden--visually\" id=\"sk-estimator-id-2\" type=\"checkbox\" ><label for=\"sk-estimator-id-2\" class=\"sk-toggleable__label sk-toggleable__label-arrow\">FeatureUnion</label><div class=\"sk-toggleable__content\"><pre>FeatureUnion(transformer_list=[(&#x27;num_pipeline&#x27;,\n",
       "                                Pipeline(steps=[(&#x27;selector&#x27;,\n",
       "                                                 ColumnTransformer(transformers=[(&#x27;select_first_2&#x27;,\n",
       "                                                                                  &#x27;passthrough&#x27;,\n",
       "                                                                                  slice(0, 2, None))])),\n",
       "                                                (&#x27;imputer&#x27;, SimpleImputer()),\n",
       "                                                (&#x27;std_scaler&#x27;,\n",
       "                                                 StandardScaler())])),\n",
       "                               (&#x27;cat_pipeline&#x27;,\n",
       "                                ColumnTransformer(transformers=[(&#x27;ordinal_encoder&#x27;,\n",
       "                                                                 OrdinalEncoder(),\n",
       "                                                                 [2])]))])</pre></div></div></div><div class=\"sk-parallel\"><div class=\"sk-parallel-item\"><div class=\"sk-item\"><div class=\"sk-label-container\"><div class=\"sk-label sk-toggleable\"><label>num_pipeline</label></div></div><div class=\"sk-serial\"><div class=\"sk-item\"><div class=\"sk-serial\"><div class=\"sk-item sk-dashed-wrapped\"><div class=\"sk-label-container\"><div class=\"sk-label sk-toggleable\"><input class=\"sk-toggleable__control sk-hidden--visually\" id=\"sk-estimator-id-3\" type=\"checkbox\" ><label for=\"sk-estimator-id-3\" class=\"sk-toggleable__label sk-toggleable__label-arrow\">selector: ColumnTransformer</label><div class=\"sk-toggleable__content\"><pre>ColumnTransformer(transformers=[(&#x27;select_first_2&#x27;, &#x27;passthrough&#x27;,\n",
       "                                 slice(0, 2, None))])</pre></div></div></div><div class=\"sk-parallel\"><div class=\"sk-parallel-item\"><div class=\"sk-item\"><div class=\"sk-label-container\"><div class=\"sk-label sk-toggleable\"><input class=\"sk-toggleable__control sk-hidden--visually\" id=\"sk-estimator-id-4\" type=\"checkbox\" ><label for=\"sk-estimator-id-4\" class=\"sk-toggleable__label sk-toggleable__label-arrow\">select_first_2</label><div class=\"sk-toggleable__content\"><pre>slice(0, 2, None)</pre></div></div></div><div class=\"sk-serial\"><div class=\"sk-item\"><div class=\"sk-estimator sk-toggleable\"><input class=\"sk-toggleable__control sk-hidden--visually\" id=\"sk-estimator-id-5\" type=\"checkbox\" ><label for=\"sk-estimator-id-5\" class=\"sk-toggleable__label sk-toggleable__label-arrow\">passthrough</label><div class=\"sk-toggleable__content\"><pre>passthrough</pre></div></div></div></div></div></div></div></div><div class=\"sk-item\"><div class=\"sk-estimator sk-toggleable\"><input class=\"sk-toggleable__control sk-hidden--visually\" id=\"sk-estimator-id-6\" type=\"checkbox\" ><label for=\"sk-estimator-id-6\" class=\"sk-toggleable__label sk-toggleable__label-arrow\">SimpleImputer</label><div class=\"sk-toggleable__content\"><pre>SimpleImputer()</pre></div></div></div><div class=\"sk-item\"><div class=\"sk-estimator sk-toggleable\"><input class=\"sk-toggleable__control sk-hidden--visually\" id=\"sk-estimator-id-7\" type=\"checkbox\" ><label for=\"sk-estimator-id-7\" class=\"sk-toggleable__label sk-toggleable__label-arrow\">StandardScaler</label><div class=\"sk-toggleable__content\"><pre>StandardScaler()</pre></div></div></div></div></div></div></div></div><div class=\"sk-parallel-item\"><div class=\"sk-item\"><div class=\"sk-label-container\"><div class=\"sk-label sk-toggleable\"><label>cat_pipeline</label></div></div><div class=\"sk-serial\"><div class=\"sk-item sk-dashed-wrapped\"><div class=\"sk-parallel\"><div class=\"sk-parallel-item\"><div class=\"sk-item\"><div class=\"sk-label-container\"><div class=\"sk-label sk-toggleable\"><input class=\"sk-toggleable__control sk-hidden--visually\" id=\"sk-estimator-id-8\" type=\"checkbox\" ><label for=\"sk-estimator-id-8\" class=\"sk-toggleable__label sk-toggleable__label-arrow\">ordinal_encoder</label><div class=\"sk-toggleable__content\"><pre>[2]</pre></div></div></div><div class=\"sk-serial\"><div class=\"sk-item\"><div class=\"sk-estimator sk-toggleable\"><input class=\"sk-toggleable__control sk-hidden--visually\" id=\"sk-estimator-id-9\" type=\"checkbox\" ><label for=\"sk-estimator-id-9\" class=\"sk-toggleable__label sk-toggleable__label-arrow\">OrdinalEncoder</label><div class=\"sk-toggleable__content\"><pre>OrdinalEncoder()</pre></div></div></div></div></div></div></div></div></div></div></div></div></div></div></div>"
      ],
      "text/plain": [
       "FeatureUnion(transformer_list=[('num_pipeline',\n",
       "                                Pipeline(steps=[('selector',\n",
       "                                                 ColumnTransformer(transformers=[('select_first_2',\n",
       "                                                                                  'passthrough',\n",
       "                                                                                  slice(0, 2, None))])),\n",
       "                                                ('imputer', SimpleImputer()),\n",
       "                                                ('std_scaler',\n",
       "                                                 StandardScaler())])),\n",
       "                               ('cat_pipeline',\n",
       "                                ColumnTransformer(transformers=[('ordinal_encoder',\n",
       "                                                                 OrdinalEncoder(),\n",
       "                                                                 [2])]))])"
      ]
     },
     "execution_count": 32,
     "metadata": {},
     "output_type": "execute_result"
    }
   ],
   "source": [
    "from sklearn import set_config\n",
    "set_config(display='diagram')\n",
    "full_pipeline"
   ]
  },
  {
   "cell_type": "code",
   "execution_count": 33,
   "id": "0024af01",
   "metadata": {
    "execution": {
     "iopub.execute_input": "2023-07-18T19:07:00.104214Z",
     "iopub.status.busy": "2023-07-18T19:07:00.103114Z",
     "iopub.status.idle": "2023-07-18T19:07:00.203735Z",
     "shell.execute_reply": "2023-07-18T19:07:00.202309Z"
    },
    "papermill": {
     "duration": 0.136764,
     "end_time": "2023-07-18T19:07:00.206877",
     "exception": false,
     "start_time": "2023-07-18T19:07:00.070113",
     "status": "completed"
    },
    "tags": []
   },
   "outputs": [],
   "source": [
    "X_train_transformed=full_pipeline.fit_transform(X_train)"
   ]
  },
  {
   "cell_type": "code",
   "execution_count": 34,
   "id": "c3a0955b",
   "metadata": {
    "execution": {
     "iopub.execute_input": "2023-07-18T19:07:00.271067Z",
     "iopub.status.busy": "2023-07-18T19:07:00.270553Z",
     "iopub.status.idle": "2023-07-18T19:07:00.283887Z",
     "shell.execute_reply": "2023-07-18T19:07:00.282624Z"
    },
    "papermill": {
     "duration": 0.048702,
     "end_time": "2023-07-18T19:07:00.286696",
     "exception": false,
     "start_time": "2023-07-18T19:07:00.237994",
     "status": "completed"
    },
    "tags": []
   },
   "outputs": [
    {
     "data": {
      "text/html": [
       "<div>\n",
       "<style scoped>\n",
       "    .dataframe tbody tr th:only-of-type {\n",
       "        vertical-align: middle;\n",
       "    }\n",
       "\n",
       "    .dataframe tbody tr th {\n",
       "        vertical-align: top;\n",
       "    }\n",
       "\n",
       "    .dataframe thead th {\n",
       "        text-align: right;\n",
       "    }\n",
       "</style>\n",
       "<table border=\"1\" class=\"dataframe\">\n",
       "  <thead>\n",
       "    <tr style=\"text-align: right;\">\n",
       "      <th></th>\n",
       "      <th>sentiment</th>\n",
       "    </tr>\n",
       "  </thead>\n",
       "  <tbody>\n",
       "    <tr>\n",
       "      <th>0</th>\n",
       "      <td>POSITIVE</td>\n",
       "    </tr>\n",
       "    <tr>\n",
       "      <th>1</th>\n",
       "      <td>POSITIVE</td>\n",
       "    </tr>\n",
       "    <tr>\n",
       "      <th>2</th>\n",
       "      <td>POSITIVE</td>\n",
       "    </tr>\n",
       "    <tr>\n",
       "      <th>3</th>\n",
       "      <td>POSITIVE</td>\n",
       "    </tr>\n",
       "    <tr>\n",
       "      <th>4</th>\n",
       "      <td>NEGATIVE</td>\n",
       "    </tr>\n",
       "    <tr>\n",
       "      <th>...</th>\n",
       "      <td>...</td>\n",
       "    </tr>\n",
       "    <tr>\n",
       "      <th>525272</th>\n",
       "      <td>POSITIVE</td>\n",
       "    </tr>\n",
       "    <tr>\n",
       "      <th>525273</th>\n",
       "      <td>POSITIVE</td>\n",
       "    </tr>\n",
       "    <tr>\n",
       "      <th>525274</th>\n",
       "      <td>POSITIVE</td>\n",
       "    </tr>\n",
       "    <tr>\n",
       "      <th>525275</th>\n",
       "      <td>NEGATIVE</td>\n",
       "    </tr>\n",
       "    <tr>\n",
       "      <th>525276</th>\n",
       "      <td>NEGATIVE</td>\n",
       "    </tr>\n",
       "  </tbody>\n",
       "</table>\n",
       "<p>525277 rows × 1 columns</p>\n",
       "</div>"
      ],
      "text/plain": [
       "       sentiment\n",
       "0       POSITIVE\n",
       "1       POSITIVE\n",
       "2       POSITIVE\n",
       "3       POSITIVE\n",
       "4       NEGATIVE\n",
       "...          ...\n",
       "525272  POSITIVE\n",
       "525273  POSITIVE\n",
       "525274  POSITIVE\n",
       "525275  NEGATIVE\n",
       "525276  NEGATIVE\n",
       "\n",
       "[525277 rows x 1 columns]"
      ]
     },
     "execution_count": 34,
     "metadata": {},
     "output_type": "execute_result"
    }
   ],
   "source": [
    "y_train"
   ]
  },
  {
   "cell_type": "code",
   "execution_count": 35,
   "id": "092e1fd7",
   "metadata": {
    "execution": {
     "iopub.execute_input": "2023-07-18T19:07:00.351695Z",
     "iopub.status.busy": "2023-07-18T19:07:00.351190Z",
     "iopub.status.idle": "2023-07-18T19:07:00.357336Z",
     "shell.execute_reply": "2023-07-18T19:07:00.356060Z"
    },
    "papermill": {
     "duration": 0.042426,
     "end_time": "2023-07-18T19:07:00.359832",
     "exception": false,
     "start_time": "2023-07-18T19:07:00.317406",
     "status": "completed"
    },
    "tags": []
   },
   "outputs": [],
   "source": [
    "y_train_array = y_train.to_numpy()"
   ]
  },
  {
   "cell_type": "code",
   "execution_count": 36,
   "id": "cc2fd77f",
   "metadata": {
    "execution": {
     "iopub.execute_input": "2023-07-18T19:07:00.424219Z",
     "iopub.status.busy": "2023-07-18T19:07:00.423297Z",
     "iopub.status.idle": "2023-07-18T19:07:00.431734Z",
     "shell.execute_reply": "2023-07-18T19:07:00.430575Z"
    },
    "papermill": {
     "duration": 0.043719,
     "end_time": "2023-07-18T19:07:00.434539",
     "exception": false,
     "start_time": "2023-07-18T19:07:00.390820",
     "status": "completed"
    },
    "tags": []
   },
   "outputs": [
    {
     "data": {
      "text/plain": [
       "array([[ 0.12451159,  0.88221083,  0.        ],\n",
       "       [ 0.12451159,  0.88221083,  0.        ],\n",
       "       [ 0.12451159,  0.88221083,  0.        ],\n",
       "       ...,\n",
       "       [-1.18510992, -0.83733396,  1.        ],\n",
       "       [-1.18510992, -0.83733396,  1.        ],\n",
       "       [-1.18510992, -0.83733396,  0.        ]])"
      ]
     },
     "execution_count": 36,
     "metadata": {},
     "output_type": "execute_result"
    }
   ],
   "source": [
    "X_train_transformed"
   ]
  },
  {
   "cell_type": "code",
   "execution_count": 37,
   "id": "8f8b642b",
   "metadata": {
    "execution": {
     "iopub.execute_input": "2023-07-18T19:07:00.501884Z",
     "iopub.status.busy": "2023-07-18T19:07:00.500984Z",
     "iopub.status.idle": "2023-07-18T19:08:57.428563Z",
     "shell.execute_reply": "2023-07-18T19:08:57.426834Z"
    },
    "papermill": {
     "duration": 116.99978,
     "end_time": "2023-07-18T19:08:57.466736",
     "exception": false,
     "start_time": "2023-07-18T19:07:00.466956",
     "status": "completed"
    },
    "tags": []
   },
   "outputs": [
    {
     "data": {
      "text/html": [
       "<style>#sk-container-id-3 {color: black;background-color: white;}#sk-container-id-3 pre{padding: 0;}#sk-container-id-3 div.sk-toggleable {background-color: white;}#sk-container-id-3 label.sk-toggleable__label {cursor: pointer;display: block;width: 100%;margin-bottom: 0;padding: 0.3em;box-sizing: border-box;text-align: center;}#sk-container-id-3 label.sk-toggleable__label-arrow:before {content: \"▸\";float: left;margin-right: 0.25em;color: #696969;}#sk-container-id-3 label.sk-toggleable__label-arrow:hover:before {color: black;}#sk-container-id-3 div.sk-estimator:hover label.sk-toggleable__label-arrow:before {color: black;}#sk-container-id-3 div.sk-toggleable__content {max-height: 0;max-width: 0;overflow: hidden;text-align: left;background-color: #f0f8ff;}#sk-container-id-3 div.sk-toggleable__content pre {margin: 0.2em;color: black;border-radius: 0.25em;background-color: #f0f8ff;}#sk-container-id-3 input.sk-toggleable__control:checked~div.sk-toggleable__content {max-height: 200px;max-width: 100%;overflow: auto;}#sk-container-id-3 input.sk-toggleable__control:checked~label.sk-toggleable__label-arrow:before {content: \"▾\";}#sk-container-id-3 div.sk-estimator input.sk-toggleable__control:checked~label.sk-toggleable__label {background-color: #d4ebff;}#sk-container-id-3 div.sk-label input.sk-toggleable__control:checked~label.sk-toggleable__label {background-color: #d4ebff;}#sk-container-id-3 input.sk-hidden--visually {border: 0;clip: rect(1px 1px 1px 1px);clip: rect(1px, 1px, 1px, 1px);height: 1px;margin: -1px;overflow: hidden;padding: 0;position: absolute;width: 1px;}#sk-container-id-3 div.sk-estimator {font-family: monospace;background-color: #f0f8ff;border: 1px dotted black;border-radius: 0.25em;box-sizing: border-box;margin-bottom: 0.5em;}#sk-container-id-3 div.sk-estimator:hover {background-color: #d4ebff;}#sk-container-id-3 div.sk-parallel-item::after {content: \"\";width: 100%;border-bottom: 1px solid gray;flex-grow: 1;}#sk-container-id-3 div.sk-label:hover label.sk-toggleable__label {background-color: #d4ebff;}#sk-container-id-3 div.sk-serial::before {content: \"\";position: absolute;border-left: 1px solid gray;box-sizing: border-box;top: 0;bottom: 0;left: 50%;z-index: 0;}#sk-container-id-3 div.sk-serial {display: flex;flex-direction: column;align-items: center;background-color: white;padding-right: 0.2em;padding-left: 0.2em;position: relative;}#sk-container-id-3 div.sk-item {position: relative;z-index: 1;}#sk-container-id-3 div.sk-parallel {display: flex;align-items: stretch;justify-content: center;background-color: white;position: relative;}#sk-container-id-3 div.sk-item::before, #sk-container-id-3 div.sk-parallel-item::before {content: \"\";position: absolute;border-left: 1px solid gray;box-sizing: border-box;top: 0;bottom: 0;left: 50%;z-index: -1;}#sk-container-id-3 div.sk-parallel-item {display: flex;flex-direction: column;z-index: 1;position: relative;background-color: white;}#sk-container-id-3 div.sk-parallel-item:first-child::after {align-self: flex-end;width: 50%;}#sk-container-id-3 div.sk-parallel-item:last-child::after {align-self: flex-start;width: 50%;}#sk-container-id-3 div.sk-parallel-item:only-child::after {width: 0;}#sk-container-id-3 div.sk-dashed-wrapped {border: 1px dashed gray;margin: 0 0.4em 0.5em 0.4em;box-sizing: border-box;padding-bottom: 0.4em;background-color: white;}#sk-container-id-3 div.sk-label label {font-family: monospace;font-weight: bold;display: inline-block;line-height: 1.2em;}#sk-container-id-3 div.sk-label-container {text-align: center;}#sk-container-id-3 div.sk-container {/* jupyter's `normalize.less` sets `[hidden] { display: none; }` but bootstrap.min.css set `[hidden] { display: none !important; }` so we also need the `!important` here to be able to override the default hidden behavior on the sphinx rendered scikit-learn.org. See: https://github.com/scikit-learn/scikit-learn/issues/21755 */display: inline-block !important;position: relative;}#sk-container-id-3 div.sk-text-repr-fallback {display: none;}</style><div id=\"sk-container-id-3\" class=\"sk-top-container\"><div class=\"sk-text-repr-fallback\"><pre>GridSearchCV(error_score=0, estimator=LogisticRegression(), n_jobs=-1,\n",
       "             param_grid={&#x27;C&#x27;: [100, 10, 1.0, 0.1, 0.01], &#x27;max_iter&#x27;: [10000],\n",
       "                         &#x27;penalty&#x27;: [&#x27;l2&#x27;], &#x27;solver&#x27;: [&#x27;saga&#x27;, &#x27;sag&#x27;]},\n",
       "             scoring=&#x27;accuracy&#x27;)</pre><b>In a Jupyter environment, please rerun this cell to show the HTML representation or trust the notebook. <br />On GitHub, the HTML representation is unable to render, please try loading this page with nbviewer.org.</b></div><div class=\"sk-container\" hidden><div class=\"sk-item sk-dashed-wrapped\"><div class=\"sk-label-container\"><div class=\"sk-label sk-toggleable\"><input class=\"sk-toggleable__control sk-hidden--visually\" id=\"sk-estimator-id-10\" type=\"checkbox\" ><label for=\"sk-estimator-id-10\" class=\"sk-toggleable__label sk-toggleable__label-arrow\">GridSearchCV</label><div class=\"sk-toggleable__content\"><pre>GridSearchCV(error_score=0, estimator=LogisticRegression(), n_jobs=-1,\n",
       "             param_grid={&#x27;C&#x27;: [100, 10, 1.0, 0.1, 0.01], &#x27;max_iter&#x27;: [10000],\n",
       "                         &#x27;penalty&#x27;: [&#x27;l2&#x27;], &#x27;solver&#x27;: [&#x27;saga&#x27;, &#x27;sag&#x27;]},\n",
       "             scoring=&#x27;accuracy&#x27;)</pre></div></div></div><div class=\"sk-parallel\"><div class=\"sk-parallel-item\"><div class=\"sk-item\"><div class=\"sk-label-container\"><div class=\"sk-label sk-toggleable\"><input class=\"sk-toggleable__control sk-hidden--visually\" id=\"sk-estimator-id-11\" type=\"checkbox\" ><label for=\"sk-estimator-id-11\" class=\"sk-toggleable__label sk-toggleable__label-arrow\">estimator: LogisticRegression</label><div class=\"sk-toggleable__content\"><pre>LogisticRegression()</pre></div></div></div><div class=\"sk-serial\"><div class=\"sk-item\"><div class=\"sk-estimator sk-toggleable\"><input class=\"sk-toggleable__control sk-hidden--visually\" id=\"sk-estimator-id-12\" type=\"checkbox\" ><label for=\"sk-estimator-id-12\" class=\"sk-toggleable__label sk-toggleable__label-arrow\">LogisticRegression</label><div class=\"sk-toggleable__content\"><pre>LogisticRegression()</pre></div></div></div></div></div></div></div></div></div></div>"
      ],
      "text/plain": [
       "GridSearchCV(error_score=0, estimator=LogisticRegression(), n_jobs=-1,\n",
       "             param_grid={'C': [100, 10, 1.0, 0.1, 0.01], 'max_iter': [10000],\n",
       "                         'penalty': ['l2'], 'solver': ['saga', 'sag']},\n",
       "             scoring='accuracy')"
      ]
     },
     "execution_count": 37,
     "metadata": {},
     "output_type": "execute_result"
    }
   ],
   "source": [
    "grid_search.fit(X_train_transformed,y_train_array.ravel())"
   ]
  },
  {
   "cell_type": "code",
   "execution_count": 38,
   "id": "fbf850f7",
   "metadata": {
    "execution": {
     "iopub.execute_input": "2023-07-18T19:08:57.540870Z",
     "iopub.status.busy": "2023-07-18T19:08:57.540426Z",
     "iopub.status.idle": "2023-07-18T19:08:57.582035Z",
     "shell.execute_reply": "2023-07-18T19:08:57.580650Z"
    },
    "papermill": {
     "duration": 0.081904,
     "end_time": "2023-07-18T19:08:57.585177",
     "exception": false,
     "start_time": "2023-07-18T19:08:57.503273",
     "status": "completed"
    },
    "tags": []
   },
   "outputs": [],
   "source": [
    "X_test_transformed=full_pipeline.fit_transform(X_test)"
   ]
  },
  {
   "cell_type": "code",
   "execution_count": 39,
   "id": "81450c22",
   "metadata": {
    "execution": {
     "iopub.execute_input": "2023-07-18T19:08:57.654385Z",
     "iopub.status.busy": "2023-07-18T19:08:57.653735Z",
     "iopub.status.idle": "2023-07-18T19:08:57.701682Z",
     "shell.execute_reply": "2023-07-18T19:08:57.699920Z"
    },
    "papermill": {
     "duration": 0.088298,
     "end_time": "2023-07-18T19:08:57.706917",
     "exception": false,
     "start_time": "2023-07-18T19:08:57.618619",
     "status": "completed"
    },
    "tags": []
   },
   "outputs": [],
   "source": [
    "y_predict = grid_search.predict(X_test_transformed)\n",
    "y_train_predict = grid_search.predict(X_train_transformed)"
   ]
  },
  {
   "cell_type": "code",
   "execution_count": 40,
   "id": "83414108",
   "metadata": {
    "execution": {
     "iopub.execute_input": "2023-07-18T19:08:57.824933Z",
     "iopub.status.busy": "2023-07-18T19:08:57.824412Z",
     "iopub.status.idle": "2023-07-18T19:08:57.831738Z",
     "shell.execute_reply": "2023-07-18T19:08:57.830391Z"
    },
    "papermill": {
     "duration": 0.054457,
     "end_time": "2023-07-18T19:08:57.834605",
     "exception": false,
     "start_time": "2023-07-18T19:08:57.780148",
     "status": "completed"
    },
    "tags": []
   },
   "outputs": [],
   "source": [
    "df_L_R = pd.DataFrame(data=y_predict,columns=['sentiment'])"
   ]
  },
  {
   "cell_type": "code",
   "execution_count": 41,
   "id": "31224fc5",
   "metadata": {
    "execution": {
     "iopub.execute_input": "2023-07-18T19:08:57.902729Z",
     "iopub.status.busy": "2023-07-18T19:08:57.902298Z",
     "iopub.status.idle": "2023-07-18T19:08:57.907731Z",
     "shell.execute_reply": "2023-07-18T19:08:57.906728Z"
    },
    "papermill": {
     "duration": 0.042785,
     "end_time": "2023-07-18T19:08:57.910106",
     "exception": false,
     "start_time": "2023-07-18T19:08:57.867321",
     "status": "completed"
    },
    "tags": []
   },
   "outputs": [],
   "source": [
    "df_L_R=df_L_R.iloc[:55315]"
   ]
  },
  {
   "cell_type": "code",
   "execution_count": 42,
   "id": "2fdc78e5",
   "metadata": {
    "execution": {
     "iopub.execute_input": "2023-07-18T19:08:57.978588Z",
     "iopub.status.busy": "2023-07-18T19:08:57.977875Z",
     "iopub.status.idle": "2023-07-18T19:09:06.974960Z",
     "shell.execute_reply": "2023-07-18T19:09:06.973720Z"
    },
    "papermill": {
     "duration": 9.0347,
     "end_time": "2023-07-18T19:09:06.977415",
     "exception": false,
     "start_time": "2023-07-18T19:08:57.942715",
     "status": "completed"
    },
    "tags": []
   },
   "outputs": [
    {
     "data": {
      "image/png": "[encoded data removed]",
      "text/plain": [
       "<Figure size 640x480 with 2 Axes>"
      ]
     },
     "metadata": {},
     "output_type": "display_data"
    }
   ],
   "source": [
    "cm_display = ConfusionMatrixDisplay.from_predictions(y_train,y_train_predict,values_format='.5g')\n",
    "plt.show()"
   ]
  },
  {
   "cell_type": "code",
   "execution_count": 43,
   "id": "6fa49b23",
   "metadata": {
    "execution": {
     "iopub.execute_input": "2023-07-18T19:09:07.046363Z",
     "iopub.status.busy": "2023-07-18T19:09:07.045856Z",
     "iopub.status.idle": "2023-07-18T19:10:01.020339Z",
     "shell.execute_reply": "2023-07-18T19:10:01.018832Z"
    },
    "papermill": {
     "duration": 54.044244,
     "end_time": "2023-07-18T19:10:01.054874",
     "exception": false,
     "start_time": "2023-07-18T19:09:07.010630",
     "status": "completed"
    },
    "tags": []
   },
   "outputs": [
    {
     "name": "stdout",
     "output_type": "stream",
     "text": [
      "              precision    recall  f1-score   support\n",
      "\n",
      "    NEGATIVE       0.52      0.08      0.15    174694\n",
      "    POSITIVE       0.68      0.96      0.80    350583\n",
      "\n",
      "    accuracy                           0.67    525277\n",
      "   macro avg       0.60      0.52      0.47    525277\n",
      "weighted avg       0.63      0.67      0.58    525277\n",
      "\n"
     ]
    }
   ],
   "source": [
    "print(classification_report(y_train,y_train_predict,zero_division=0))"
   ]
  },
  {
   "cell_type": "code",
   "execution_count": 44,
   "id": "c46929be",
   "metadata": {
    "execution": {
     "iopub.execute_input": "2023-07-18T19:10:01.123505Z",
     "iopub.status.busy": "2023-07-18T19:10:01.122986Z",
     "iopub.status.idle": "2023-07-18T19:10:01.128947Z",
     "shell.execute_reply": "2023-07-18T19:10:01.127312Z"
    },
    "papermill": {
     "duration": 0.04321,
     "end_time": "2023-07-18T19:10:01.131546",
     "exception": false,
     "start_time": "2023-07-18T19:10:01.088336",
     "status": "completed"
    },
    "tags": []
   },
   "outputs": [],
   "source": [
    "#df_L_R.to_csv('submission.csv',index_label='id')"
   ]
  },
  {
   "cell_type": "markdown",
   "id": "2c4bbe3c",
   "metadata": {
    "papermill": {
     "duration": 0.033127,
     "end_time": "2023-07-18T19:10:01.197656",
     "exception": false,
     "start_time": "2023-07-18T19:10:01.164529",
     "status": "completed"
    },
    "tags": []
   },
   "source": [
    "# K Nearest Neighbours"
   ]
  },
  {
   "cell_type": "code",
   "execution_count": 45,
   "id": "a3d2ec3f",
   "metadata": {
    "execution": {
     "iopub.execute_input": "2023-07-18T19:10:01.268101Z",
     "iopub.status.busy": "2023-07-18T19:10:01.266774Z",
     "iopub.status.idle": "2023-07-18T19:17:27.728259Z",
     "shell.execute_reply": "2023-07-18T19:17:27.726898Z"
    },
    "papermill": {
     "duration": 446.531282,
     "end_time": "2023-07-18T19:17:27.763415",
     "exception": false,
     "start_time": "2023-07-18T19:10:01.232133",
     "status": "completed"
    },
    "tags": []
   },
   "outputs": [
    {
     "data": {
      "text/html": [
       "<style>#sk-container-id-4 {color: black;background-color: white;}#sk-container-id-4 pre{padding: 0;}#sk-container-id-4 div.sk-toggleable {background-color: white;}#sk-container-id-4 label.sk-toggleable__label {cursor: pointer;display: block;width: 100%;margin-bottom: 0;padding: 0.3em;box-sizing: border-box;text-align: center;}#sk-container-id-4 label.sk-toggleable__label-arrow:before {content: \"▸\";float: left;margin-right: 0.25em;color: #696969;}#sk-container-id-4 label.sk-toggleable__label-arrow:hover:before {color: black;}#sk-container-id-4 div.sk-estimator:hover label.sk-toggleable__label-arrow:before {color: black;}#sk-container-id-4 div.sk-toggleable__content {max-height: 0;max-width: 0;overflow: hidden;text-align: left;background-color: #f0f8ff;}#sk-container-id-4 div.sk-toggleable__content pre {margin: 0.2em;color: black;border-radius: 0.25em;background-color: #f0f8ff;}#sk-container-id-4 input.sk-toggleable__control:checked~div.sk-toggleable__content {max-height: 200px;max-width: 100%;overflow: auto;}#sk-container-id-4 input.sk-toggleable__control:checked~label.sk-toggleable__label-arrow:before {content: \"▾\";}#sk-container-id-4 div.sk-estimator input.sk-toggleable__control:checked~label.sk-toggleable__label {background-color: #d4ebff;}#sk-container-id-4 div.sk-label input.sk-toggleable__control:checked~label.sk-toggleable__label {background-color: #d4ebff;}#sk-container-id-4 input.sk-hidden--visually {border: 0;clip: rect(1px 1px 1px 1px);clip: rect(1px, 1px, 1px, 1px);height: 1px;margin: -1px;overflow: hidden;padding: 0;position: absolute;width: 1px;}#sk-container-id-4 div.sk-estimator {font-family: monospace;background-color: #f0f8ff;border: 1px dotted black;border-radius: 0.25em;box-sizing: border-box;margin-bottom: 0.5em;}#sk-container-id-4 div.sk-estimator:hover {background-color: #d4ebff;}#sk-container-id-4 div.sk-parallel-item::after {content: \"\";width: 100%;border-bottom: 1px solid gray;flex-grow: 1;}#sk-container-id-4 div.sk-label:hover label.sk-toggleable__label {background-color: #d4ebff;}#sk-container-id-4 div.sk-serial::before {content: \"\";position: absolute;border-left: 1px solid gray;box-sizing: border-box;top: 0;bottom: 0;left: 50%;z-index: 0;}#sk-container-id-4 div.sk-serial {display: flex;flex-direction: column;align-items: center;background-color: white;padding-right: 0.2em;padding-left: 0.2em;position: relative;}#sk-container-id-4 div.sk-item {position: relative;z-index: 1;}#sk-container-id-4 div.sk-parallel {display: flex;align-items: stretch;justify-content: center;background-color: white;position: relative;}#sk-container-id-4 div.sk-item::before, #sk-container-id-4 div.sk-parallel-item::before {content: \"\";position: absolute;border-left: 1px solid gray;box-sizing: border-box;top: 0;bottom: 0;left: 50%;z-index: -1;}#sk-container-id-4 div.sk-parallel-item {display: flex;flex-direction: column;z-index: 1;position: relative;background-color: white;}#sk-container-id-4 div.sk-parallel-item:first-child::after {align-self: flex-end;width: 50%;}#sk-container-id-4 div.sk-parallel-item:last-child::after {align-self: flex-start;width: 50%;}#sk-container-id-4 div.sk-parallel-item:only-child::after {width: 0;}#sk-container-id-4 div.sk-dashed-wrapped {border: 1px dashed gray;margin: 0 0.4em 0.5em 0.4em;box-sizing: border-box;padding-bottom: 0.4em;background-color: white;}#sk-container-id-4 div.sk-label label {font-family: monospace;font-weight: bold;display: inline-block;line-height: 1.2em;}#sk-container-id-4 div.sk-label-container {text-align: center;}#sk-container-id-4 div.sk-container {/* jupyter's `normalize.less` sets `[hidden] { display: none; }` but bootstrap.min.css set `[hidden] { display: none !important; }` so we also need the `!important` here to be able to override the default hidden behavior on the sphinx rendered scikit-learn.org. See: https://github.com/scikit-learn/scikit-learn/issues/21755 */display: inline-block !important;position: relative;}#sk-container-id-4 div.sk-text-repr-fallback {display: none;}</style><div id=\"sk-container-id-4\" class=\"sk-top-container\"><div class=\"sk-text-repr-fallback\"><pre>GridSearchCV(cv=5, estimator=KNeighborsClassifier(),\n",
       "             param_grid={&#x27;n_neighbors&#x27;: array([1, 2])})</pre><b>In a Jupyter environment, please rerun this cell to show the HTML representation or trust the notebook. <br />On GitHub, the HTML representation is unable to render, please try loading this page with nbviewer.org.</b></div><div class=\"sk-container\" hidden><div class=\"sk-item sk-dashed-wrapped\"><div class=\"sk-label-container\"><div class=\"sk-label sk-toggleable\"><input class=\"sk-toggleable__control sk-hidden--visually\" id=\"sk-estimator-id-13\" type=\"checkbox\" ><label for=\"sk-estimator-id-13\" class=\"sk-toggleable__label sk-toggleable__label-arrow\">GridSearchCV</label><div class=\"sk-toggleable__content\"><pre>GridSearchCV(cv=5, estimator=KNeighborsClassifier(),\n",
       "             param_grid={&#x27;n_neighbors&#x27;: array([1, 2])})</pre></div></div></div><div class=\"sk-parallel\"><div class=\"sk-parallel-item\"><div class=\"sk-item\"><div class=\"sk-label-container\"><div class=\"sk-label sk-toggleable\"><input class=\"sk-toggleable__control sk-hidden--visually\" id=\"sk-estimator-id-14\" type=\"checkbox\" ><label for=\"sk-estimator-id-14\" class=\"sk-toggleable__label sk-toggleable__label-arrow\">estimator: KNeighborsClassifier</label><div class=\"sk-toggleable__content\"><pre>KNeighborsClassifier()</pre></div></div></div><div class=\"sk-serial\"><div class=\"sk-item\"><div class=\"sk-estimator sk-toggleable\"><input class=\"sk-toggleable__control sk-hidden--visually\" id=\"sk-estimator-id-15\" type=\"checkbox\" ><label for=\"sk-estimator-id-15\" class=\"sk-toggleable__label sk-toggleable__label-arrow\">KNeighborsClassifier</label><div class=\"sk-toggleable__content\"><pre>KNeighborsClassifier()</pre></div></div></div></div></div></div></div></div></div></div>"
      ],
      "text/plain": [
       "GridSearchCV(cv=5, estimator=KNeighborsClassifier(),\n",
       "             param_grid={'n_neighbors': array([1, 2])})"
      ]
     },
     "execution_count": 45,
     "metadata": {},
     "output_type": "execute_result"
    }
   ],
   "source": [
    "knn = KNeighborsClassifier()\n",
    "param_grid = {'n_neighbors': np.arange(1, 3)}\n",
    "knn_gscv = GridSearchCV(knn, param_grid, cv=5)\n",
    "knn_gscv.fit(X_train_transformed,y_train_array.ravel())"
   ]
  },
  {
   "cell_type": "code",
   "execution_count": 46,
   "id": "a8fdb020",
   "metadata": {
    "execution": {
     "iopub.execute_input": "2023-07-18T19:17:27.832305Z",
     "iopub.status.busy": "2023-07-18T19:17:27.831811Z",
     "iopub.status.idle": "2023-07-18T19:26:25.001416Z",
     "shell.execute_reply": "2023-07-18T19:26:24.999182Z"
    },
    "papermill": {
     "duration": 537.208908,
     "end_time": "2023-07-18T19:26:25.005509",
     "exception": false,
     "start_time": "2023-07-18T19:17:27.796601",
     "status": "completed"
    },
    "tags": []
   },
   "outputs": [],
   "source": [
    "y_predict = knn_gscv.predict(X_test_transformed)\n",
    "y_train_predict = knn_gscv.predict(X_train_transformed)"
   ]
  },
  {
   "cell_type": "code",
   "execution_count": 47,
   "id": "d03022a3",
   "metadata": {
    "execution": {
     "iopub.execute_input": "2023-07-18T19:26:25.079010Z",
     "iopub.status.busy": "2023-07-18T19:26:25.078548Z",
     "iopub.status.idle": "2023-07-18T19:26:25.086651Z",
     "shell.execute_reply": "2023-07-18T19:26:25.085453Z"
    },
    "papermill": {
     "duration": 0.048614,
     "end_time": "2023-07-18T19:26:25.089282",
     "exception": false,
     "start_time": "2023-07-18T19:26:25.040668",
     "status": "completed"
    },
    "tags": []
   },
   "outputs": [
    {
     "data": {
      "text/plain": [
       "{'n_neighbors': 1}"
      ]
     },
     "execution_count": 47,
     "metadata": {},
     "output_type": "execute_result"
    }
   ],
   "source": [
    "knn_gscv.best_params_"
   ]
  },
  {
   "cell_type": "code",
   "execution_count": 48,
   "id": "d15bdf34",
   "metadata": {
    "execution": {
     "iopub.execute_input": "2023-07-18T19:26:25.165740Z",
     "iopub.status.busy": "2023-07-18T19:26:25.165327Z",
     "iopub.status.idle": "2023-07-18T19:26:25.174281Z",
     "shell.execute_reply": "2023-07-18T19:26:25.172770Z"
    },
    "papermill": {
     "duration": 0.050985,
     "end_time": "2023-07-18T19:26:25.177137",
     "exception": false,
     "start_time": "2023-07-18T19:26:25.126152",
     "status": "completed"
    },
    "tags": []
   },
   "outputs": [
    {
     "data": {
      "text/plain": [
       "0.556995772763851"
      ]
     },
     "execution_count": 48,
     "metadata": {},
     "output_type": "execute_result"
    }
   ],
   "source": [
    "knn_gscv.best_score_"
   ]
  },
  {
   "cell_type": "code",
   "execution_count": 49,
   "id": "87e60571",
   "metadata": {
    "execution": {
     "iopub.execute_input": "2023-07-18T19:26:25.246697Z",
     "iopub.status.busy": "2023-07-18T19:26:25.246221Z",
     "iopub.status.idle": "2023-07-18T19:26:25.253752Z",
     "shell.execute_reply": "2023-07-18T19:26:25.252276Z"
    },
    "papermill": {
     "duration": 0.044533,
     "end_time": "2023-07-18T19:26:25.256383",
     "exception": false,
     "start_time": "2023-07-18T19:26:25.211850",
     "status": "completed"
    },
    "tags": []
   },
   "outputs": [],
   "source": [
    "df_K_N_N = pd.DataFrame(data=y_predict,columns=['sentiment'])"
   ]
  },
  {
   "cell_type": "code",
   "execution_count": 50,
   "id": "fea16d5a",
   "metadata": {
    "execution": {
     "iopub.execute_input": "2023-07-18T19:26:25.327395Z",
     "iopub.status.busy": "2023-07-18T19:26:25.326957Z",
     "iopub.status.idle": "2023-07-18T19:26:25.332168Z",
     "shell.execute_reply": "2023-07-18T19:26:25.331044Z"
    },
    "papermill": {
     "duration": 0.045111,
     "end_time": "2023-07-18T19:26:25.334701",
     "exception": false,
     "start_time": "2023-07-18T19:26:25.289590",
     "status": "completed"
    },
    "tags": []
   },
   "outputs": [],
   "source": [
    "df_K_N_N=df_K_N_N.iloc[:55315]"
   ]
  },
  {
   "cell_type": "code",
   "execution_count": 51,
   "id": "2d81826f",
   "metadata": {
    "execution": {
     "iopub.execute_input": "2023-07-18T19:26:25.413539Z",
     "iopub.status.busy": "2023-07-18T19:26:25.412721Z",
     "iopub.status.idle": "2023-07-18T19:26:34.518292Z",
     "shell.execute_reply": "2023-07-18T19:26:34.516685Z"
    },
    "papermill": {
     "duration": 9.147099,
     "end_time": "2023-07-18T19:26:34.520957",
     "exception": false,
     "start_time": "2023-07-18T19:26:25.373858",
     "status": "completed"
    },
    "tags": []
   },
   "outputs": [
    {
     "data": {
      "image/png": "[encoded data removed]",
      "text/plain": [
       "<Figure size 640x480 with 2 Axes>"
      ]
     },
     "metadata": {},
     "output_type": "display_data"
    }
   ],
   "source": [
    "cm_display = ConfusionMatrixDisplay.from_predictions(y_train,y_train_predict,values_format='.5g')\n",
    "plt.show()"
   ]
  },
  {
   "cell_type": "code",
   "execution_count": 52,
   "id": "93df7b1f",
   "metadata": {
    "execution": {
     "iopub.execute_input": "2023-07-18T19:26:34.592191Z",
     "iopub.status.busy": "2023-07-18T19:26:34.591084Z",
     "iopub.status.idle": "2023-07-18T19:27:29.902221Z",
     "shell.execute_reply": "2023-07-18T19:27:29.900867Z"
    },
    "papermill": {
     "duration": 55.384508,
     "end_time": "2023-07-18T19:27:29.939249",
     "exception": false,
     "start_time": "2023-07-18T19:26:34.554741",
     "status": "completed"
    },
    "tags": []
   },
   "outputs": [
    {
     "name": "stdout",
     "output_type": "stream",
     "text": [
      "              precision    recall  f1-score   support\n",
      "\n",
      "    NEGATIVE       0.36      0.67      0.47    174694\n",
      "    POSITIVE       0.71      0.40      0.51    350583\n",
      "\n",
      "    accuracy                           0.49    525277\n",
      "   macro avg       0.53      0.53      0.49    525277\n",
      "weighted avg       0.59      0.49      0.50    525277\n",
      "\n"
     ]
    }
   ],
   "source": [
    "print(classification_report(y_train,y_train_predict,zero_division=0))"
   ]
  },
  {
   "cell_type": "code",
   "execution_count": 53,
   "id": "619d621f",
   "metadata": {
    "execution": {
     "iopub.execute_input": "2023-07-18T19:27:30.016940Z",
     "iopub.status.busy": "2023-07-18T19:27:30.016117Z",
     "iopub.status.idle": "2023-07-18T19:27:30.021570Z",
     "shell.execute_reply": "2023-07-18T19:27:30.020463Z"
    },
    "papermill": {
     "duration": 0.049832,
     "end_time": "2023-07-18T19:27:30.024310",
     "exception": false,
     "start_time": "2023-07-18T19:27:29.974478",
     "status": "completed"
    },
    "tags": []
   },
   "outputs": [],
   "source": [
    "#df_K_N_N.to_csv('submission.csv',index_label='id')"
   ]
  },
  {
   "cell_type": "markdown",
   "id": "d0f0712f",
   "metadata": {
    "papermill": {
     "duration": 0.034039,
     "end_time": "2023-07-18T19:27:30.094230",
     "exception": false,
     "start_time": "2023-07-18T19:27:30.060191",
     "status": "completed"
    },
    "tags": []
   },
   "source": [
    "# SVM"
   ]
  },
  {
   "cell_type": "code",
   "execution_count": 54,
   "id": "dc61f49f",
   "metadata": {
    "execution": {
     "iopub.execute_input": "2023-07-18T19:27:30.169046Z",
     "iopub.status.busy": "2023-07-18T19:27:30.168176Z",
     "iopub.status.idle": "2023-07-18T19:29:15.730280Z",
     "shell.execute_reply": "2023-07-18T19:29:15.728689Z"
    },
    "papermill": {
     "duration": 105.638431,
     "end_time": "2023-07-18T19:29:15.769164",
     "exception": false,
     "start_time": "2023-07-18T19:27:30.130733",
     "status": "completed"
    },
    "tags": []
   },
   "outputs": [
    {
     "data": {
      "text/html": [
       "<style>#sk-container-id-5 {color: black;background-color: white;}#sk-container-id-5 pre{padding: 0;}#sk-container-id-5 div.sk-toggleable {background-color: white;}#sk-container-id-5 label.sk-toggleable__label {cursor: pointer;display: block;width: 100%;margin-bottom: 0;padding: 0.3em;box-sizing: border-box;text-align: center;}#sk-container-id-5 label.sk-toggleable__label-arrow:before {content: \"▸\";float: left;margin-right: 0.25em;color: #696969;}#sk-container-id-5 label.sk-toggleable__label-arrow:hover:before {color: black;}#sk-container-id-5 div.sk-estimator:hover label.sk-toggleable__label-arrow:before {color: black;}#sk-container-id-5 div.sk-toggleable__content {max-height: 0;max-width: 0;overflow: hidden;text-align: left;background-color: #f0f8ff;}#sk-container-id-5 div.sk-toggleable__content pre {margin: 0.2em;color: black;border-radius: 0.25em;background-color: #f0f8ff;}#sk-container-id-5 input.sk-toggleable__control:checked~div.sk-toggleable__content {max-height: 200px;max-width: 100%;overflow: auto;}#sk-container-id-5 input.sk-toggleable__control:checked~label.sk-toggleable__label-arrow:before {content: \"▾\";}#sk-container-id-5 div.sk-estimator input.sk-toggleable__control:checked~label.sk-toggleable__label {background-color: #d4ebff;}#sk-container-id-5 div.sk-label input.sk-toggleable__control:checked~label.sk-toggleable__label {background-color: #d4ebff;}#sk-container-id-5 input.sk-hidden--visually {border: 0;clip: rect(1px 1px 1px 1px);clip: rect(1px, 1px, 1px, 1px);height: 1px;margin: -1px;overflow: hidden;padding: 0;position: absolute;width: 1px;}#sk-container-id-5 div.sk-estimator {font-family: monospace;background-color: #f0f8ff;border: 1px dotted black;border-radius: 0.25em;box-sizing: border-box;margin-bottom: 0.5em;}#sk-container-id-5 div.sk-estimator:hover {background-color: #d4ebff;}#sk-container-id-5 div.sk-parallel-item::after {content: \"\";width: 100%;border-bottom: 1px solid gray;flex-grow: 1;}#sk-container-id-5 div.sk-label:hover label.sk-toggleable__label {background-color: #d4ebff;}#sk-container-id-5 div.sk-serial::before {content: \"\";position: absolute;border-left: 1px solid gray;box-sizing: border-box;top: 0;bottom: 0;left: 50%;z-index: 0;}#sk-container-id-5 div.sk-serial {display: flex;flex-direction: column;align-items: center;background-color: white;padding-right: 0.2em;padding-left: 0.2em;position: relative;}#sk-container-id-5 div.sk-item {position: relative;z-index: 1;}#sk-container-id-5 div.sk-parallel {display: flex;align-items: stretch;justify-content: center;background-color: white;position: relative;}#sk-container-id-5 div.sk-item::before, #sk-container-id-5 div.sk-parallel-item::before {content: \"\";position: absolute;border-left: 1px solid gray;box-sizing: border-box;top: 0;bottom: 0;left: 50%;z-index: -1;}#sk-container-id-5 div.sk-parallel-item {display: flex;flex-direction: column;z-index: 1;position: relative;background-color: white;}#sk-container-id-5 div.sk-parallel-item:first-child::after {align-self: flex-end;width: 50%;}#sk-container-id-5 div.sk-parallel-item:last-child::after {align-self: flex-start;width: 50%;}#sk-container-id-5 div.sk-parallel-item:only-child::after {width: 0;}#sk-container-id-5 div.sk-dashed-wrapped {border: 1px dashed gray;margin: 0 0.4em 0.5em 0.4em;box-sizing: border-box;padding-bottom: 0.4em;background-color: white;}#sk-container-id-5 div.sk-label label {font-family: monospace;font-weight: bold;display: inline-block;line-height: 1.2em;}#sk-container-id-5 div.sk-label-container {text-align: center;}#sk-container-id-5 div.sk-container {/* jupyter's `normalize.less` sets `[hidden] { display: none; }` but bootstrap.min.css set `[hidden] { display: none !important; }` so we also need the `!important` here to be able to override the default hidden behavior on the sphinx rendered scikit-learn.org. See: https://github.com/scikit-learn/scikit-learn/issues/21755 */display: inline-block !important;position: relative;}#sk-container-id-5 div.sk-text-repr-fallback {display: none;}</style><div id=\"sk-container-id-5\" class=\"sk-top-container\"><div class=\"sk-text-repr-fallback\"><pre>SVC()</pre><b>In a Jupyter environment, please rerun this cell to show the HTML representation or trust the notebook. <br />On GitHub, the HTML representation is unable to render, please try loading this page with nbviewer.org.</b></div><div class=\"sk-container\" hidden><div class=\"sk-item\"><div class=\"sk-estimator sk-toggleable\"><input class=\"sk-toggleable__control sk-hidden--visually\" id=\"sk-estimator-id-16\" type=\"checkbox\" checked><label for=\"sk-estimator-id-16\" class=\"sk-toggleable__label sk-toggleable__label-arrow\">SVC</label><div class=\"sk-toggleable__content\"><pre>SVC()</pre></div></div></div></div></div>"
      ],
      "text/plain": [
       "SVC()"
      ]
     },
     "execution_count": 54,
     "metadata": {},
     "output_type": "execute_result"
    }
   ],
   "source": [
    "clf = svm.SVC()\n",
    "clf.fit(X_train_transformed[:55315],y_train_array[:55315].ravel())"
   ]
  },
  {
   "cell_type": "code",
   "execution_count": 55,
   "id": "45e2df1c",
   "metadata": {
    "execution": {
     "iopub.execute_input": "2023-07-18T19:29:15.846850Z",
     "iopub.status.busy": "2023-07-18T19:29:15.846341Z",
     "iopub.status.idle": "2023-07-18T19:32:59.291740Z",
     "shell.execute_reply": "2023-07-18T19:32:59.290124Z"
    },
    "papermill": {
     "duration": 223.489081,
     "end_time": "2023-07-18T19:32:59.295264",
     "exception": false,
     "start_time": "2023-07-18T19:29:15.806183",
     "status": "completed"
    },
    "tags": []
   },
   "outputs": [],
   "source": [
    "y_predict = clf.predict(X_test_transformed[:55315])\n",
    "y_train_predict = clf.predict(X_train_transformed[:55315])"
   ]
  },
  {
   "cell_type": "code",
   "execution_count": 56,
   "id": "31da390f",
   "metadata": {
    "execution": {
     "iopub.execute_input": "2023-07-18T19:32:59.365573Z",
     "iopub.status.busy": "2023-07-18T19:32:59.365152Z",
     "iopub.status.idle": "2023-07-18T19:32:59.372078Z",
     "shell.execute_reply": "2023-07-18T19:32:59.370760Z"
    },
    "papermill": {
     "duration": 0.044932,
     "end_time": "2023-07-18T19:32:59.374669",
     "exception": false,
     "start_time": "2023-07-18T19:32:59.329737",
     "status": "completed"
    },
    "tags": []
   },
   "outputs": [],
   "source": [
    "df_SVM = pd.DataFrame(data=y_predict,columns=['sentiment'])"
   ]
  },
  {
   "cell_type": "code",
   "execution_count": 57,
   "id": "c44ef7cd",
   "metadata": {
    "execution": {
     "iopub.execute_input": "2023-07-18T19:32:59.534619Z",
     "iopub.status.busy": "2023-07-18T19:32:59.534209Z",
     "iopub.status.idle": "2023-07-18T19:32:59.540460Z",
     "shell.execute_reply": "2023-07-18T19:32:59.539118Z"
    },
    "papermill": {
     "duration": 0.043944,
     "end_time": "2023-07-18T19:32:59.543000",
     "exception": false,
     "start_time": "2023-07-18T19:32:59.499056",
     "status": "completed"
    },
    "tags": []
   },
   "outputs": [],
   "source": [
    "df_SVM=df_SVM.iloc[:55315]"
   ]
  },
  {
   "cell_type": "code",
   "execution_count": 58,
   "id": "6a760341",
   "metadata": {
    "execution": {
     "iopub.execute_input": "2023-07-18T19:32:59.615049Z",
     "iopub.status.busy": "2023-07-18T19:32:59.614046Z",
     "iopub.status.idle": "2023-07-18T19:33:00.668717Z",
     "shell.execute_reply": "2023-07-18T19:33:00.667555Z"
    },
    "papermill": {
     "duration": 1.094178,
     "end_time": "2023-07-18T19:33:00.671501",
     "exception": false,
     "start_time": "2023-07-18T19:32:59.577323",
     "status": "completed"
    },
    "tags": []
   },
   "outputs": [
    {
     "data": {
      "image/png": "[encoded data removed]",
      "text/plain": [
       "<Figure size 640x480 with 2 Axes>"
      ]
     },
     "metadata": {},
     "output_type": "display_data"
    }
   ],
   "source": [
    "cm_display = ConfusionMatrixDisplay.from_predictions(y_train[:55315],y_train_predict,values_format='.5g')\n",
    "plt.show()"
   ]
  },
  {
   "cell_type": "code",
   "execution_count": 59,
   "id": "b6af3766",
   "metadata": {
    "execution": {
     "iopub.execute_input": "2023-07-18T19:33:00.745498Z",
     "iopub.status.busy": "2023-07-18T19:33:00.744878Z",
     "iopub.status.idle": "2023-07-18T19:33:05.495814Z",
     "shell.execute_reply": "2023-07-18T19:33:05.493403Z"
    },
    "papermill": {
     "duration": 4.79232,
     "end_time": "2023-07-18T19:33:05.499041",
     "exception": false,
     "start_time": "2023-07-18T19:33:00.706721",
     "status": "completed"
    },
    "tags": []
   },
   "outputs": [
    {
     "name": "stdout",
     "output_type": "stream",
     "text": [
      "              precision    recall  f1-score   support\n",
      "\n",
      "    NEGATIVE       0.62      0.03      0.06     18529\n",
      "    POSITIVE       0.67      0.99      0.80     36786\n",
      "\n",
      "    accuracy                           0.67     55315\n",
      "   macro avg       0.65      0.51      0.43     55315\n",
      "weighted avg       0.65      0.67      0.55     55315\n",
      "\n"
     ]
    }
   ],
   "source": [
    "print(classification_report(y_train[:55315],y_train_predict,zero_division=0))"
   ]
  },
  {
   "cell_type": "code",
   "execution_count": 60,
   "id": "6c27815f",
   "metadata": {
    "execution": {
     "iopub.execute_input": "2023-07-18T19:33:05.581668Z",
     "iopub.status.busy": "2023-07-18T19:33:05.580440Z",
     "iopub.status.idle": "2023-07-18T19:33:05.796353Z",
     "shell.execute_reply": "2023-07-18T19:33:05.794646Z"
    },
    "papermill": {
     "duration": 0.264442,
     "end_time": "2023-07-18T19:33:05.800263",
     "exception": false,
     "start_time": "2023-07-18T19:33:05.535821",
     "status": "completed"
    },
    "tags": []
   },
   "outputs": [],
   "source": [
    "df_SVM.to_csv('submission.csv',index_label='id')"
   ]
  },
  {
   "cell_type": "markdown",
   "id": "2618bebe",
   "metadata": {
    "papermill": {
     "duration": 0.037265,
     "end_time": "2023-07-18T19:33:05.876418",
     "exception": false,
     "start_time": "2023-07-18T19:33:05.839153",
     "status": "completed"
    },
    "tags": []
   },
   "source": [
    "# Decision Tree Classifier"
   ]
  },
  {
   "cell_type": "code",
   "execution_count": 61,
   "id": "7e708668",
   "metadata": {
    "execution": {
     "iopub.execute_input": "2023-07-18T19:33:05.953357Z",
     "iopub.status.busy": "2023-07-18T19:33:05.951897Z",
     "iopub.status.idle": "2023-07-18T19:43:32.681932Z",
     "shell.execute_reply": "2023-07-18T19:43:32.680726Z"
    },
    "papermill": {
     "duration": 626.806937,
     "end_time": "2023-07-18T19:43:32.720873",
     "exception": false,
     "start_time": "2023-07-18T19:33:05.913936",
     "status": "completed"
    },
    "tags": []
   },
   "outputs": [
    {
     "data": {
      "text/html": [
       "<style>#sk-container-id-6 {color: black;background-color: white;}#sk-container-id-6 pre{padding: 0;}#sk-container-id-6 div.sk-toggleable {background-color: white;}#sk-container-id-6 label.sk-toggleable__label {cursor: pointer;display: block;width: 100%;margin-bottom: 0;padding: 0.3em;box-sizing: border-box;text-align: center;}#sk-container-id-6 label.sk-toggleable__label-arrow:before {content: \"▸\";float: left;margin-right: 0.25em;color: #696969;}#sk-container-id-6 label.sk-toggleable__label-arrow:hover:before {color: black;}#sk-container-id-6 div.sk-estimator:hover label.sk-toggleable__label-arrow:before {color: black;}#sk-container-id-6 div.sk-toggleable__content {max-height: 0;max-width: 0;overflow: hidden;text-align: left;background-color: #f0f8ff;}#sk-container-id-6 div.sk-toggleable__content pre {margin: 0.2em;color: black;border-radius: 0.25em;background-color: #f0f8ff;}#sk-container-id-6 input.sk-toggleable__control:checked~div.sk-toggleable__content {max-height: 200px;max-width: 100%;overflow: auto;}#sk-container-id-6 input.sk-toggleable__control:checked~label.sk-toggleable__label-arrow:before {content: \"▾\";}#sk-container-id-6 div.sk-estimator input.sk-toggleable__control:checked~label.sk-toggleable__label {background-color: #d4ebff;}#sk-container-id-6 div.sk-label input.sk-toggleable__control:checked~label.sk-toggleable__label {background-color: #d4ebff;}#sk-container-id-6 input.sk-hidden--visually {border: 0;clip: rect(1px 1px 1px 1px);clip: rect(1px, 1px, 1px, 1px);height: 1px;margin: -1px;overflow: hidden;padding: 0;position: absolute;width: 1px;}#sk-container-id-6 div.sk-estimator {font-family: monospace;background-color: #f0f8ff;border: 1px dotted black;border-radius: 0.25em;box-sizing: border-box;margin-bottom: 0.5em;}#sk-container-id-6 div.sk-estimator:hover {background-color: #d4ebff;}#sk-container-id-6 div.sk-parallel-item::after {content: \"\";width: 100%;border-bottom: 1px solid gray;flex-grow: 1;}#sk-container-id-6 div.sk-label:hover label.sk-toggleable__label {background-color: #d4ebff;}#sk-container-id-6 div.sk-serial::before {content: \"\";position: absolute;border-left: 1px solid gray;box-sizing: border-box;top: 0;bottom: 0;left: 50%;z-index: 0;}#sk-container-id-6 div.sk-serial {display: flex;flex-direction: column;align-items: center;background-color: white;padding-right: 0.2em;padding-left: 0.2em;position: relative;}#sk-container-id-6 div.sk-item {position: relative;z-index: 1;}#sk-container-id-6 div.sk-parallel {display: flex;align-items: stretch;justify-content: center;background-color: white;position: relative;}#sk-container-id-6 div.sk-item::before, #sk-container-id-6 div.sk-parallel-item::before {content: \"\";position: absolute;border-left: 1px solid gray;box-sizing: border-box;top: 0;bottom: 0;left: 50%;z-index: -1;}#sk-container-id-6 div.sk-parallel-item {display: flex;flex-direction: column;z-index: 1;position: relative;background-color: white;}#sk-container-id-6 div.sk-parallel-item:first-child::after {align-self: flex-end;width: 50%;}#sk-container-id-6 div.sk-parallel-item:last-child::after {align-self: flex-start;width: 50%;}#sk-container-id-6 div.sk-parallel-item:only-child::after {width: 0;}#sk-container-id-6 div.sk-dashed-wrapped {border: 1px dashed gray;margin: 0 0.4em 0.5em 0.4em;box-sizing: border-box;padding-bottom: 0.4em;background-color: white;}#sk-container-id-6 div.sk-label label {font-family: monospace;font-weight: bold;display: inline-block;line-height: 1.2em;}#sk-container-id-6 div.sk-label-container {text-align: center;}#sk-container-id-6 div.sk-container {/* jupyter's `normalize.less` sets `[hidden] { display: none; }` but bootstrap.min.css set `[hidden] { display: none !important; }` so we also need the `!important` here to be able to override the default hidden behavior on the sphinx rendered scikit-learn.org. See: https://github.com/scikit-learn/scikit-learn/issues/21755 */display: inline-block !important;position: relative;}#sk-container-id-6 div.sk-text-repr-fallback {display: none;}</style><div id=\"sk-container-id-6\" class=\"sk-top-container\"><div class=\"sk-text-repr-fallback\"><pre>GridSearchCV(cv=4, estimator=DecisionTreeClassifier(random_state=1),\n",
       "             param_grid={&#x27;criterion&#x27;: [&#x27;gini&#x27;, &#x27;entropy&#x27;],\n",
       "                         &#x27;max_depth&#x27;: [3, 4, 5, 6],\n",
       "                         &#x27;min_samples_leaf&#x27;: [2, 4, 6, 8, 10],\n",
       "                         &#x27;splitter&#x27;: [&#x27;random&#x27;, &#x27;best&#x27;]})</pre><b>In a Jupyter environment, please rerun this cell to show the HTML representation or trust the notebook. <br />On GitHub, the HTML representation is unable to render, please try loading this page with nbviewer.org.</b></div><div class=\"sk-container\" hidden><div class=\"sk-item sk-dashed-wrapped\"><div class=\"sk-label-container\"><div class=\"sk-label sk-toggleable\"><input class=\"sk-toggleable__control sk-hidden--visually\" id=\"sk-estimator-id-17\" type=\"checkbox\" ><label for=\"sk-estimator-id-17\" class=\"sk-toggleable__label sk-toggleable__label-arrow\">GridSearchCV</label><div class=\"sk-toggleable__content\"><pre>GridSearchCV(cv=4, estimator=DecisionTreeClassifier(random_state=1),\n",
       "             param_grid={&#x27;criterion&#x27;: [&#x27;gini&#x27;, &#x27;entropy&#x27;],\n",
       "                         &#x27;max_depth&#x27;: [3, 4, 5, 6],\n",
       "                         &#x27;min_samples_leaf&#x27;: [2, 4, 6, 8, 10],\n",
       "                         &#x27;splitter&#x27;: [&#x27;random&#x27;, &#x27;best&#x27;]})</pre></div></div></div><div class=\"sk-parallel\"><div class=\"sk-parallel-item\"><div class=\"sk-item\"><div class=\"sk-label-container\"><div class=\"sk-label sk-toggleable\"><input class=\"sk-toggleable__control sk-hidden--visually\" id=\"sk-estimator-id-18\" type=\"checkbox\" ><label for=\"sk-estimator-id-18\" class=\"sk-toggleable__label sk-toggleable__label-arrow\">estimator: DecisionTreeClassifier</label><div class=\"sk-toggleable__content\"><pre>DecisionTreeClassifier(random_state=1)</pre></div></div></div><div class=\"sk-serial\"><div class=\"sk-item\"><div class=\"sk-estimator sk-toggleable\"><input class=\"sk-toggleable__control sk-hidden--visually\" id=\"sk-estimator-id-19\" type=\"checkbox\" ><label for=\"sk-estimator-id-19\" class=\"sk-toggleable__label sk-toggleable__label-arrow\">DecisionTreeClassifier</label><div class=\"sk-toggleable__content\"><pre>DecisionTreeClassifier(random_state=1)</pre></div></div></div></div></div></div></div></div></div></div>"
      ],
      "text/plain": [
       "GridSearchCV(cv=4, estimator=DecisionTreeClassifier(random_state=1),\n",
       "             param_grid={'criterion': ['gini', 'entropy'],\n",
       "                         'max_depth': [3, 4, 5, 6],\n",
       "                         'min_samples_leaf': [2, 4, 6, 8, 10],\n",
       "                         'splitter': ['random', 'best']})"
      ]
     },
     "execution_count": 61,
     "metadata": {},
     "output_type": "execute_result"
    }
   ],
   "source": [
    "tree_para = {'criterion':['gini','entropy'],'splitter':['random','best'],'max_depth':[3,4,5,6],'min_samples_leaf':[2,4,6,8,10]}\n",
    "clf = GridSearchCV(DecisionTreeClassifier(random_state=1), tree_para, cv=4)\n",
    "clf.fit(X_train_transformed, y_train_array)"
   ]
  },
  {
   "cell_type": "code",
   "execution_count": 62,
   "id": "1cb5f42b",
   "metadata": {
    "execution": {
     "iopub.execute_input": "2023-07-18T19:43:32.796966Z",
     "iopub.status.busy": "2023-07-18T19:43:32.796409Z",
     "iopub.status.idle": "2023-07-18T19:43:32.804304Z",
     "shell.execute_reply": "2023-07-18T19:43:32.803259Z"
    },
    "papermill": {
     "duration": 0.051279,
     "end_time": "2023-07-18T19:43:32.808212",
     "exception": false,
     "start_time": "2023-07-18T19:43:32.756933",
     "status": "completed"
    },
    "tags": []
   },
   "outputs": [
    {
     "data": {
      "text/plain": [
       "0.6705833356830256"
      ]
     },
     "execution_count": 62,
     "metadata": {},
     "output_type": "execute_result"
    }
   ],
   "source": [
    "clf.best_score_"
   ]
  },
  {
   "cell_type": "code",
   "execution_count": 63,
   "id": "c098f2c6",
   "metadata": {
    "execution": {
     "iopub.execute_input": "2023-07-18T19:43:32.888057Z",
     "iopub.status.busy": "2023-07-18T19:43:32.887246Z",
     "iopub.status.idle": "2023-07-18T19:43:32.893497Z",
     "shell.execute_reply": "2023-07-18T19:43:32.892521Z"
    },
    "papermill": {
     "duration": 0.048314,
     "end_time": "2023-07-18T19:43:32.896474",
     "exception": false,
     "start_time": "2023-07-18T19:43:32.848160",
     "status": "completed"
    },
    "tags": []
   },
   "outputs": [
    {
     "data": {
      "text/plain": [
       "{'criterion': 'gini',\n",
       " 'max_depth': 5,\n",
       " 'min_samples_leaf': 4,\n",
       " 'splitter': 'random'}"
      ]
     },
     "execution_count": 63,
     "metadata": {},
     "output_type": "execute_result"
    }
   ],
   "source": [
    "clf.best_params_"
   ]
  },
  {
   "cell_type": "markdown",
   "id": "160b715d",
   "metadata": {
    "papermill": {
     "duration": 0.040573,
     "end_time": "2023-07-18T19:43:32.985801",
     "exception": false,
     "start_time": "2023-07-18T19:43:32.945228",
     "status": "completed"
    },
    "tags": []
   },
   "source": [
    "# BaggingClassifier"
   ]
  },
  {
   "cell_type": "code",
   "execution_count": 64,
   "id": "51bf3d9a",
   "metadata": {
    "execution": {
     "iopub.execute_input": "2023-07-18T19:43:33.075757Z",
     "iopub.status.busy": "2023-07-18T19:43:33.075020Z",
     "iopub.status.idle": "2023-07-18T19:51:34.494327Z",
     "shell.execute_reply": "2023-07-18T19:51:34.493053Z"
    },
    "papermill": {
     "duration": 481.467829,
     "end_time": "2023-07-18T19:51:34.497481",
     "exception": false,
     "start_time": "2023-07-18T19:43:33.029652",
     "status": "completed"
    },
    "tags": []
   },
   "outputs": [],
   "source": [
    "clf = BaggingClassifier(estimator=svm.SVC(),n_estimators=10, random_state=0).fit(X_train_transformed[:55315], y_train_array[:55315].ravel())"
   ]
  },
  {
   "cell_type": "code",
   "execution_count": 65,
   "id": "59018655",
   "metadata": {
    "execution": {
     "iopub.execute_input": "2023-07-18T19:51:34.570978Z",
     "iopub.status.busy": "2023-07-18T19:51:34.570291Z",
     "iopub.status.idle": "2023-07-18T20:15:07.598649Z",
     "shell.execute_reply": "2023-07-18T20:15:07.597200Z"
    },
    "papermill": {
     "duration": 1413.068515,
     "end_time": "2023-07-18T20:15:07.601988",
     "exception": false,
     "start_time": "2023-07-18T19:51:34.533473",
     "status": "completed"
    },
    "tags": []
   },
   "outputs": [],
   "source": [
    "y_predict = clf.predict(X_test_transformed[:55315])\n",
    "y_train_predict = clf.predict(X_train_transformed[:55315])"
   ]
  },
  {
   "cell_type": "code",
   "execution_count": 66,
   "id": "39395bc5",
   "metadata": {
    "execution": {
     "iopub.execute_input": "2023-07-18T20:15:07.676028Z",
     "iopub.status.busy": "2023-07-18T20:15:07.675611Z",
     "iopub.status.idle": "2023-07-18T20:26:57.114033Z",
     "shell.execute_reply": "2023-07-18T20:26:57.112527Z"
    },
    "papermill": {
     "duration": 709.518777,
     "end_time": "2023-07-18T20:26:57.156276",
     "exception": false,
     "start_time": "2023-07-18T20:15:07.637499",
     "status": "completed"
    },
    "tags": []
   },
   "outputs": [
    {
     "data": {
      "text/plain": [
       "0.6695652173913044"
      ]
     },
     "execution_count": 66,
     "metadata": {},
     "output_type": "execute_result"
    }
   ],
   "source": [
    "clf.score(X_train_transformed[:55315], y_train_array[:55315].ravel())"
   ]
  },
  {
   "cell_type": "code",
   "execution_count": 67,
   "id": "c861971e",
   "metadata": {
    "execution": {
     "iopub.execute_input": "2023-07-18T20:26:57.233651Z",
     "iopub.status.busy": "2023-07-18T20:26:57.232808Z",
     "iopub.status.idle": "2023-07-18T20:26:58.354198Z",
     "shell.execute_reply": "2023-07-18T20:26:58.352764Z"
    },
    "papermill": {
     "duration": 1.164207,
     "end_time": "2023-07-18T20:26:58.357148",
     "exception": false,
     "start_time": "2023-07-18T20:26:57.192941",
     "status": "completed"
    },
    "tags": []
   },
   "outputs": [
    {
     "data": {
      "image/png": "[encoded data removed]",
      "text/plain": [
       "<Figure size 640x480 with 2 Axes>"
      ]
     },
     "metadata": {},
     "output_type": "display_data"
    }
   ],
   "source": [
    "cm_display = ConfusionMatrixDisplay.from_predictions(y_train[:55315],y_train_predict,values_format='.5g')\n",
    "plt.show()"
   ]
  },
  {
   "cell_type": "markdown",
   "id": "04a5a57f",
   "metadata": {
    "papermill": {
     "duration": 0.040618,
     "end_time": "2023-07-18T20:26:58.445690",
     "exception": false,
     "start_time": "2023-07-18T20:26:58.405072",
     "status": "completed"
    },
    "tags": []
   },
   "source": [
    "# AdaBoostClassifier"
   ]
  },
  {
   "cell_type": "code",
   "execution_count": 68,
   "id": "f9c72e5b",
   "metadata": {
    "execution": {
     "iopub.execute_input": "2023-07-18T20:26:58.523903Z",
     "iopub.status.busy": "2023-07-18T20:26:58.523456Z",
     "iopub.status.idle": "2023-07-18T20:26:58.529464Z",
     "shell.execute_reply": "2023-07-18T20:26:58.528249Z"
    },
    "papermill": {
     "duration": 0.048137,
     "end_time": "2023-07-18T20:26:58.532301",
     "exception": false,
     "start_time": "2023-07-18T20:26:58.484164",
     "status": "completed"
    },
    "tags": []
   },
   "outputs": [],
   "source": [
    "clf = AdaBoostClassifier(n_estimators=100, random_state=0)"
   ]
  },
  {
   "cell_type": "code",
   "execution_count": 69,
   "id": "4cf6a6a8",
   "metadata": {
    "execution": {
     "iopub.execute_input": "2023-07-18T20:26:58.610594Z",
     "iopub.status.busy": "2023-07-18T20:26:58.610146Z",
     "iopub.status.idle": "2023-07-18T20:27:14.281982Z",
     "shell.execute_reply": "2023-07-18T20:27:14.280506Z"
    },
    "papermill": {
     "duration": 15.714113,
     "end_time": "2023-07-18T20:27:14.284993",
     "exception": false,
     "start_time": "2023-07-18T20:26:58.570880",
     "status": "completed"
    },
    "tags": []
   },
   "outputs": [
    {
     "data": {
      "text/html": [
       "<style>#sk-container-id-7 {color: black;background-color: white;}#sk-container-id-7 pre{padding: 0;}#sk-container-id-7 div.sk-toggleable {background-color: white;}#sk-container-id-7 label.sk-toggleable__label {cursor: pointer;display: block;width: 100%;margin-bottom: 0;padding: 0.3em;box-sizing: border-box;text-align: center;}#sk-container-id-7 label.sk-toggleable__label-arrow:before {content: \"▸\";float: left;margin-right: 0.25em;color: #696969;}#sk-container-id-7 label.sk-toggleable__label-arrow:hover:before {color: black;}#sk-container-id-7 div.sk-estimator:hover label.sk-toggleable__label-arrow:before {color: black;}#sk-container-id-7 div.sk-toggleable__content {max-height: 0;max-width: 0;overflow: hidden;text-align: left;background-color: #f0f8ff;}#sk-container-id-7 div.sk-toggleable__content pre {margin: 0.2em;color: black;border-radius: 0.25em;background-color: #f0f8ff;}#sk-container-id-7 input.sk-toggleable__control:checked~div.sk-toggleable__content {max-height: 200px;max-width: 100%;overflow: auto;}#sk-container-id-7 input.sk-toggleable__control:checked~label.sk-toggleable__label-arrow:before {content: \"▾\";}#sk-container-id-7 div.sk-estimator input.sk-toggleable__control:checked~label.sk-toggleable__label {background-color: #d4ebff;}#sk-container-id-7 div.sk-label input.sk-toggleable__control:checked~label.sk-toggleable__label {background-color: #d4ebff;}#sk-container-id-7 input.sk-hidden--visually {border: 0;clip: rect(1px 1px 1px 1px);clip: rect(1px, 1px, 1px, 1px);height: 1px;margin: -1px;overflow: hidden;padding: 0;position: absolute;width: 1px;}#sk-container-id-7 div.sk-estimator {font-family: monospace;background-color: #f0f8ff;border: 1px dotted black;border-radius: 0.25em;box-sizing: border-box;margin-bottom: 0.5em;}#sk-container-id-7 div.sk-estimator:hover {background-color: #d4ebff;}#sk-container-id-7 div.sk-parallel-item::after {content: \"\";width: 100%;border-bottom: 1px solid gray;flex-grow: 1;}#sk-container-id-7 div.sk-label:hover label.sk-toggleable__label {background-color: #d4ebff;}#sk-container-id-7 div.sk-serial::before {content: \"\";position: absolute;border-left: 1px solid gray;box-sizing: border-box;top: 0;bottom: 0;left: 50%;z-index: 0;}#sk-container-id-7 div.sk-serial {display: flex;flex-direction: column;align-items: center;background-color: white;padding-right: 0.2em;padding-left: 0.2em;position: relative;}#sk-container-id-7 div.sk-item {position: relative;z-index: 1;}#sk-container-id-7 div.sk-parallel {display: flex;align-items: stretch;justify-content: center;background-color: white;position: relative;}#sk-container-id-7 div.sk-item::before, #sk-container-id-7 div.sk-parallel-item::before {content: \"\";position: absolute;border-left: 1px solid gray;box-sizing: border-box;top: 0;bottom: 0;left: 50%;z-index: -1;}#sk-container-id-7 div.sk-parallel-item {display: flex;flex-direction: column;z-index: 1;position: relative;background-color: white;}#sk-container-id-7 div.sk-parallel-item:first-child::after {align-self: flex-end;width: 50%;}#sk-container-id-7 div.sk-parallel-item:last-child::after {align-self: flex-start;width: 50%;}#sk-container-id-7 div.sk-parallel-item:only-child::after {width: 0;}#sk-container-id-7 div.sk-dashed-wrapped {border: 1px dashed gray;margin: 0 0.4em 0.5em 0.4em;box-sizing: border-box;padding-bottom: 0.4em;background-color: white;}#sk-container-id-7 div.sk-label label {font-family: monospace;font-weight: bold;display: inline-block;line-height: 1.2em;}#sk-container-id-7 div.sk-label-container {text-align: center;}#sk-container-id-7 div.sk-container {/* jupyter's `normalize.less` sets `[hidden] { display: none; }` but bootstrap.min.css set `[hidden] { display: none !important; }` so we also need the `!important` here to be able to override the default hidden behavior on the sphinx rendered scikit-learn.org. See: https://github.com/scikit-learn/scikit-learn/issues/21755 */display: inline-block !important;position: relative;}#sk-container-id-7 div.sk-text-repr-fallback {display: none;}</style><div id=\"sk-container-id-7\" class=\"sk-top-container\"><div class=\"sk-text-repr-fallback\"><pre>AdaBoostClassifier(n_estimators=100, random_state=0)</pre><b>In a Jupyter environment, please rerun this cell to show the HTML representation or trust the notebook. <br />On GitHub, the HTML representation is unable to render, please try loading this page with nbviewer.org.</b></div><div class=\"sk-container\" hidden><div class=\"sk-item\"><div class=\"sk-estimator sk-toggleable\"><input class=\"sk-toggleable__control sk-hidden--visually\" id=\"sk-estimator-id-20\" type=\"checkbox\" checked><label for=\"sk-estimator-id-20\" class=\"sk-toggleable__label sk-toggleable__label-arrow\">AdaBoostClassifier</label><div class=\"sk-toggleable__content\"><pre>AdaBoostClassifier(n_estimators=100, random_state=0)</pre></div></div></div></div></div>"
      ],
      "text/plain": [
       "AdaBoostClassifier(n_estimators=100, random_state=0)"
      ]
     },
     "execution_count": 69,
     "metadata": {},
     "output_type": "execute_result"
    }
   ],
   "source": [
    "clf.fit(X_train_transformed[:55315], y_train_array[:55315].ravel())"
   ]
  },
  {
   "cell_type": "code",
   "execution_count": 70,
   "id": "72151c88",
   "metadata": {
    "execution": {
     "iopub.execute_input": "2023-07-18T20:27:14.360173Z",
     "iopub.status.busy": "2023-07-18T20:27:14.359721Z",
     "iopub.status.idle": "2023-07-18T20:27:15.672931Z",
     "shell.execute_reply": "2023-07-18T20:27:15.671458Z"
    },
    "papermill": {
     "duration": 1.355448,
     "end_time": "2023-07-18T20:27:15.676820",
     "exception": false,
     "start_time": "2023-07-18T20:27:14.321372",
     "status": "completed"
    },
    "tags": []
   },
   "outputs": [],
   "source": [
    "y_predict = clf.predict(X_test_transformed[:55315])\n",
    "y_train_predict = clf.predict(X_train_transformed[:55315])"
   ]
  },
  {
   "cell_type": "code",
   "execution_count": 71,
   "id": "4256462c",
   "metadata": {
    "execution": {
     "iopub.execute_input": "2023-07-18T20:27:15.763600Z",
     "iopub.status.busy": "2023-07-18T20:27:15.763202Z",
     "iopub.status.idle": "2023-07-18T20:27:16.700314Z",
     "shell.execute_reply": "2023-07-18T20:27:16.698677Z"
    },
    "papermill": {
     "duration": 0.983974,
     "end_time": "2023-07-18T20:27:16.703184",
     "exception": false,
     "start_time": "2023-07-18T20:27:15.719210",
     "status": "completed"
    },
    "tags": []
   },
   "outputs": [
    {
     "data": {
      "text/plain": [
       "0.669492904275513"
      ]
     },
     "execution_count": 71,
     "metadata": {},
     "output_type": "execute_result"
    }
   ],
   "source": [
    "clf.score(X_train_transformed[:55315], y_train_array[:55315].ravel())"
   ]
  },
  {
   "cell_type": "code",
   "execution_count": 72,
   "id": "358dfec9",
   "metadata": {
    "execution": {
     "iopub.execute_input": "2023-07-18T20:27:16.786569Z",
     "iopub.status.busy": "2023-07-18T20:27:16.785938Z",
     "iopub.status.idle": "2023-07-18T20:27:17.888589Z",
     "shell.execute_reply": "2023-07-18T20:27:17.886604Z"
    },
    "papermill": {
     "duration": 1.147732,
     "end_time": "2023-07-18T20:27:17.892415",
     "exception": false,
     "start_time": "2023-07-18T20:27:16.744683",
     "status": "completed"
    },
    "tags": []
   },
   "outputs": [
    {
     "data": {
      "image/png": "[encoded data removed]",
      "text/plain": [
       "<Figure size 640x480 with 2 Axes>"
      ]
     },
     "metadata": {},
     "output_type": "display_data"
    }
   ],
   "source": [
    "cm_display = ConfusionMatrixDisplay.from_predictions(y_train[:55315],y_train_predict,values_format='.5g')\n",
    "plt.show()"
   ]
  },
  {
   "cell_type": "markdown",
   "id": "2de6448a",
   "metadata": {
    "papermill": {
     "duration": 0.037999,
     "end_time": "2023-07-18T20:27:17.972580",
     "exception": false,
     "start_time": "2023-07-18T20:27:17.934581",
     "status": "completed"
    },
    "tags": []
   },
   "source": [
    "# MLPClassifier"
   ]
  },
  {
   "cell_type": "code",
   "execution_count": 73,
   "id": "702aa144",
   "metadata": {
    "execution": {
     "iopub.execute_input": "2023-07-18T20:27:18.061631Z",
     "iopub.status.busy": "2023-07-18T20:27:18.061150Z",
     "iopub.status.idle": "2023-07-18T20:27:18.067103Z",
     "shell.execute_reply": "2023-07-18T20:27:18.066079Z"
    },
    "papermill": {
     "duration": 0.052352,
     "end_time": "2023-07-18T20:27:18.069481",
     "exception": false,
     "start_time": "2023-07-18T20:27:18.017129",
     "status": "completed"
    },
    "tags": []
   },
   "outputs": [],
   "source": [
    "clf = MLPClassifier(random_state=1, max_iter=300)"
   ]
  },
  {
   "cell_type": "code",
   "execution_count": 74,
   "id": "28ce00e7",
   "metadata": {
    "execution": {
     "iopub.execute_input": "2023-07-18T20:27:18.151102Z",
     "iopub.status.busy": "2023-07-18T20:27:18.150130Z",
     "iopub.status.idle": "2023-07-18T20:27:29.524775Z",
     "shell.execute_reply": "2023-07-18T20:27:29.523628Z"
    },
    "papermill": {
     "duration": 11.420507,
     "end_time": "2023-07-18T20:27:29.528814",
     "exception": false,
     "start_time": "2023-07-18T20:27:18.108307",
     "status": "completed"
    },
    "tags": []
   },
   "outputs": [
    {
     "data": {
      "text/html": [
       "<style>#sk-container-id-8 {color: black;background-color: white;}#sk-container-id-8 pre{padding: 0;}#sk-container-id-8 div.sk-toggleable {background-color: white;}#sk-container-id-8 label.sk-toggleable__label {cursor: pointer;display: block;width: 100%;margin-bottom: 0;padding: 0.3em;box-sizing: border-box;text-align: center;}#sk-container-id-8 label.sk-toggleable__label-arrow:before {content: \"▸\";float: left;margin-right: 0.25em;color: #696969;}#sk-container-id-8 label.sk-toggleable__label-arrow:hover:before {color: black;}#sk-container-id-8 div.sk-estimator:hover label.sk-toggleable__label-arrow:before {color: black;}#sk-container-id-8 div.sk-toggleable__content {max-height: 0;max-width: 0;overflow: hidden;text-align: left;background-color: #f0f8ff;}#sk-container-id-8 div.sk-toggleable__content pre {margin: 0.2em;color: black;border-radius: 0.25em;background-color: #f0f8ff;}#sk-container-id-8 input.sk-toggleable__control:checked~div.sk-toggleable__content {max-height: 200px;max-width: 100%;overflow: auto;}#sk-container-id-8 input.sk-toggleable__control:checked~label.sk-toggleable__label-arrow:before {content: \"▾\";}#sk-container-id-8 div.sk-estimator input.sk-toggleable__control:checked~label.sk-toggleable__label {background-color: #d4ebff;}#sk-container-id-8 div.sk-label input.sk-toggleable__control:checked~label.sk-toggleable__label {background-color: #d4ebff;}#sk-container-id-8 input.sk-hidden--visually {border: 0;clip: rect(1px 1px 1px 1px);clip: rect(1px, 1px, 1px, 1px);height: 1px;margin: -1px;overflow: hidden;padding: 0;position: absolute;width: 1px;}#sk-container-id-8 div.sk-estimator {font-family: monospace;background-color: #f0f8ff;border: 1px dotted black;border-radius: 0.25em;box-sizing: border-box;margin-bottom: 0.5em;}#sk-container-id-8 div.sk-estimator:hover {background-color: #d4ebff;}#sk-container-id-8 div.sk-parallel-item::after {content: \"\";width: 100%;border-bottom: 1px solid gray;flex-grow: 1;}#sk-container-id-8 div.sk-label:hover label.sk-toggleable__label {background-color: #d4ebff;}#sk-container-id-8 div.sk-serial::before {content: \"\";position: absolute;border-left: 1px solid gray;box-sizing: border-box;top: 0;bottom: 0;left: 50%;z-index: 0;}#sk-container-id-8 div.sk-serial {display: flex;flex-direction: column;align-items: center;background-color: white;padding-right: 0.2em;padding-left: 0.2em;position: relative;}#sk-container-id-8 div.sk-item {position: relative;z-index: 1;}#sk-container-id-8 div.sk-parallel {display: flex;align-items: stretch;justify-content: center;background-color: white;position: relative;}#sk-container-id-8 div.sk-item::before, #sk-container-id-8 div.sk-parallel-item::before {content: \"\";position: absolute;border-left: 1px solid gray;box-sizing: border-box;top: 0;bottom: 0;left: 50%;z-index: -1;}#sk-container-id-8 div.sk-parallel-item {display: flex;flex-direction: column;z-index: 1;position: relative;background-color: white;}#sk-container-id-8 div.sk-parallel-item:first-child::after {align-self: flex-end;width: 50%;}#sk-container-id-8 div.sk-parallel-item:last-child::after {align-self: flex-start;width: 50%;}#sk-container-id-8 div.sk-parallel-item:only-child::after {width: 0;}#sk-container-id-8 div.sk-dashed-wrapped {border: 1px dashed gray;margin: 0 0.4em 0.5em 0.4em;box-sizing: border-box;padding-bottom: 0.4em;background-color: white;}#sk-container-id-8 div.sk-label label {font-family: monospace;font-weight: bold;display: inline-block;line-height: 1.2em;}#sk-container-id-8 div.sk-label-container {text-align: center;}#sk-container-id-8 div.sk-container {/* jupyter's `normalize.less` sets `[hidden] { display: none; }` but bootstrap.min.css set `[hidden] { display: none !important; }` so we also need the `!important` here to be able to override the default hidden behavior on the sphinx rendered scikit-learn.org. See: https://github.com/scikit-learn/scikit-learn/issues/21755 */display: inline-block !important;position: relative;}#sk-container-id-8 div.sk-text-repr-fallback {display: none;}</style><div id=\"sk-container-id-8\" class=\"sk-top-container\"><div class=\"sk-text-repr-fallback\"><pre>MLPClassifier(max_iter=300, random_state=1)</pre><b>In a Jupyter environment, please rerun this cell to show the HTML representation or trust the notebook. <br />On GitHub, the HTML representation is unable to render, please try loading this page with nbviewer.org.</b></div><div class=\"sk-container\" hidden><div class=\"sk-item\"><div class=\"sk-estimator sk-toggleable\"><input class=\"sk-toggleable__control sk-hidden--visually\" id=\"sk-estimator-id-21\" type=\"checkbox\" checked><label for=\"sk-estimator-id-21\" class=\"sk-toggleable__label sk-toggleable__label-arrow\">MLPClassifier</label><div class=\"sk-toggleable__content\"><pre>MLPClassifier(max_iter=300, random_state=1)</pre></div></div></div></div></div>"
      ],
      "text/plain": [
       "MLPClassifier(max_iter=300, random_state=1)"
      ]
     },
     "execution_count": 74,
     "metadata": {},
     "output_type": "execute_result"
    }
   ],
   "source": [
    "clf.fit(X_train_transformed[:55315], y_train_array[:55315].ravel())"
   ]
  },
  {
   "cell_type": "code",
   "execution_count": 75,
   "id": "09284680",
   "metadata": {
    "execution": {
     "iopub.execute_input": "2023-07-18T20:27:29.660210Z",
     "iopub.status.busy": "2023-07-18T20:27:29.659580Z",
     "iopub.status.idle": "2023-07-18T20:27:29.838070Z",
     "shell.execute_reply": "2023-07-18T20:27:29.831542Z"
    },
    "papermill": {
     "duration": 0.243491,
     "end_time": "2023-07-18T20:27:29.845945",
     "exception": false,
     "start_time": "2023-07-18T20:27:29.602454",
     "status": "completed"
    },
    "tags": []
   },
   "outputs": [],
   "source": [
    "y_predict = clf.predict(X_test_transformed[:55315])\n",
    "y_train_predict = clf.predict(X_train_transformed[:55315])"
   ]
  },
  {
   "cell_type": "code",
   "execution_count": 76,
   "id": "c5f36c45",
   "metadata": {
    "execution": {
     "iopub.execute_input": "2023-07-18T20:27:29.986703Z",
     "iopub.status.busy": "2023-07-18T20:27:29.986063Z",
     "iopub.status.idle": "2023-07-18T20:27:30.429579Z",
     "shell.execute_reply": "2023-07-18T20:27:30.427467Z"
    },
    "papermill": {
     "duration": 0.4931,
     "end_time": "2023-07-18T20:27:30.432441",
     "exception": false,
     "start_time": "2023-07-18T20:27:29.939341",
     "status": "completed"
    },
    "tags": []
   },
   "outputs": [
    {
     "data": {
      "text/plain": [
       "0.667630841543885"
      ]
     },
     "execution_count": 76,
     "metadata": {},
     "output_type": "execute_result"
    }
   ],
   "source": [
    "clf.score(X_train_transformed[:55315], y_train_array[:55315].ravel())"
   ]
  },
  {
   "cell_type": "code",
   "execution_count": 77,
   "id": "1ecfbe1d",
   "metadata": {
    "execution": {
     "iopub.execute_input": "2023-07-18T20:27:30.511562Z",
     "iopub.status.busy": "2023-07-18T20:27:30.510056Z",
     "iopub.status.idle": "2023-07-18T20:27:31.456004Z",
     "shell.execute_reply": "2023-07-18T20:27:31.454618Z"
    },
    "papermill": {
     "duration": 0.989873,
     "end_time": "2023-07-18T20:27:31.460169",
     "exception": false,
     "start_time": "2023-07-18T20:27:30.470296",
     "status": "completed"
    },
    "tags": []
   },
   "outputs": [
    {
     "data": {
      "image/png": "[encoded data removed]",
      "text/plain": [
       "<Figure size 640x480 with 2 Axes>"
      ]
     },
     "metadata": {},
     "output_type": "display_data"
    }
   ],
   "source": [
    "cm_display = ConfusionMatrixDisplay.from_predictions(y_train[:55315],y_train_predict,values_format='.5g')\n",
    "plt.show()"
   ]
  },
  {
   "cell_type": "markdown",
   "id": "b73d49dc",
   "metadata": {
    "papermill": {
     "duration": 0.038614,
     "end_time": "2023-07-18T20:27:31.541377",
     "exception": false,
     "start_time": "2023-07-18T20:27:31.502763",
     "status": "completed"
    },
    "tags": []
   },
   "source": [
    "# Comparing all the above"
   ]
  },
  {
   "cell_type": "code",
   "execution_count": 78,
   "id": "fc2ec2e8",
   "metadata": {
    "execution": {
     "iopub.execute_input": "2023-07-18T20:27:31.623900Z",
     "iopub.status.busy": "2023-07-18T20:27:31.623408Z",
     "iopub.status.idle": "2023-07-18T20:27:31.629465Z",
     "shell.execute_reply": "2023-07-18T20:27:31.628206Z"
    },
    "papermill": {
     "duration": 0.05046,
     "end_time": "2023-07-18T20:27:31.631745",
     "exception": false,
     "start_time": "2023-07-18T20:27:31.581285",
     "status": "completed"
    },
    "tags": []
   },
   "outputs": [],
   "source": [
    "from sklearn import model_selection"
   ]
  },
  {
   "cell_type": "code",
   "execution_count": 79,
   "id": "85820fc2",
   "metadata": {
    "execution": {
     "iopub.execute_input": "2023-07-18T20:27:31.716913Z",
     "iopub.status.busy": "2023-07-18T20:27:31.715479Z",
     "iopub.status.idle": "2023-07-18T20:27:31.720988Z",
     "shell.execute_reply": "2023-07-18T20:27:31.720102Z"
    },
    "papermill": {
     "duration": 0.050349,
     "end_time": "2023-07-18T20:27:31.723408",
     "exception": false,
     "start_time": "2023-07-18T20:27:31.673059",
     "status": "completed"
    },
    "tags": []
   },
   "outputs": [],
   "source": [
    "from sklearn import model_selection"
   ]
  },
  {
   "cell_type": "code",
   "execution_count": 80,
   "id": "c937cfce",
   "metadata": {
    "execution": {
     "iopub.execute_input": "2023-07-18T20:27:31.806087Z",
     "iopub.status.busy": "2023-07-18T20:27:31.805055Z",
     "iopub.status.idle": "2023-07-18T20:27:31.813175Z",
     "shell.execute_reply": "2023-07-18T20:27:31.811881Z"
    },
    "papermill": {
     "duration": 0.052916,
     "end_time": "2023-07-18T20:27:31.816140",
     "exception": false,
     "start_time": "2023-07-18T20:27:31.763224",
     "status": "completed"
    },
    "tags": []
   },
   "outputs": [],
   "source": [
    "models = []\n",
    "models.append(('LR', LogisticRegression()))\n",
    "models.append(('KNN', KNeighborsClassifier()))\n",
    "models.append(('SVM', svm.SVC()))\n",
    "models.append(('DTC',DecisionTreeClassifier()))\n",
    "models.append(('BC',BaggingClassifier()))\n",
    "models.append(('ABC',AdaBoostClassifier()))\n",
    "models.append(('MLPC',MLPClassifier()))"
   ]
  },
  {
   "cell_type": "code",
   "execution_count": 81,
   "id": "f99db3e4",
   "metadata": {
    "execution": {
     "iopub.execute_input": "2023-07-18T20:27:31.898959Z",
     "iopub.status.busy": "2023-07-18T20:27:31.898526Z",
     "iopub.status.idle": "2023-07-18T20:45:08.700725Z",
     "shell.execute_reply": "2023-07-18T20:45:08.698908Z"
    },
    "papermill": {
     "duration": 1056.908019,
     "end_time": "2023-07-18T20:45:08.764164",
     "exception": false,
     "start_time": "2023-07-18T20:27:31.856145",
     "status": "completed"
    },
    "tags": []
   },
   "outputs": [
    {
     "name": "stderr",
     "output_type": "stream",
     "text": [
      "/opt/conda/lib/python3.10/site-packages/sklearn/utils/validation.py:1143: DataConversionWarning: A column-vector y was passed when a 1d array was expected. Please change the shape of y to (n_samples, ), for example using ravel().\n",
      "  y = column_or_1d(y, warn=True)\n",
      "/opt/conda/lib/python3.10/site-packages/sklearn/utils/validation.py:1143: DataConversionWarning: A column-vector y was passed when a 1d array was expected. Please change the shape of y to (n_samples, ), for example using ravel().\n",
      "  y = column_or_1d(y, warn=True)\n",
      "/opt/conda/lib/python3.10/site-packages/sklearn/utils/validation.py:1143: DataConversionWarning: A column-vector y was passed when a 1d array was expected. Please change the shape of y to (n_samples, ), for example using ravel().\n",
      "  y = column_or_1d(y, warn=True)\n",
      "/opt/conda/lib/python3.10/site-packages/sklearn/utils/validation.py:1143: DataConversionWarning: A column-vector y was passed when a 1d array was expected. Please change the shape of y to (n_samples, ), for example using ravel().\n",
      "  y = column_or_1d(y, warn=True)\n",
      "/opt/conda/lib/python3.10/site-packages/sklearn/utils/validation.py:1143: DataConversionWarning: A column-vector y was passed when a 1d array was expected. Please change the shape of y to (n_samples, ), for example using ravel().\n",
      "  y = column_or_1d(y, warn=True)\n",
      "/opt/conda/lib/python3.10/site-packages/sklearn/utils/validation.py:1143: DataConversionWarning: A column-vector y was passed when a 1d array was expected. Please change the shape of y to (n_samples, ), for example using ravel().\n",
      "  y = column_or_1d(y, warn=True)\n",
      "/opt/conda/lib/python3.10/site-packages/sklearn/utils/validation.py:1143: DataConversionWarning: A column-vector y was passed when a 1d array was expected. Please change the shape of y to (n_samples, ), for example using ravel().\n",
      "  y = column_or_1d(y, warn=True)\n",
      "/opt/conda/lib/python3.10/site-packages/sklearn/utils/validation.py:1143: DataConversionWarning: A column-vector y was passed when a 1d array was expected. Please change the shape of y to (n_samples, ), for example using ravel().\n",
      "  y = column_or_1d(y, warn=True)\n",
      "/opt/conda/lib/python3.10/site-packages/sklearn/utils/validation.py:1143: DataConversionWarning: A column-vector y was passed when a 1d array was expected. Please change the shape of y to (n_samples, ), for example using ravel().\n",
      "  y = column_or_1d(y, warn=True)\n",
      "/opt/conda/lib/python3.10/site-packages/sklearn/utils/validation.py:1143: DataConversionWarning: A column-vector y was passed when a 1d array was expected. Please change the shape of y to (n_samples, ), for example using ravel().\n",
      "  y = column_or_1d(y, warn=True)\n"
     ]
    },
    {
     "name": "stdout",
     "output_type": "stream",
     "text": [
      "LR: 0.665028 (0.021216)\n"
     ]
    },
    {
     "name": "stderr",
     "output_type": "stream",
     "text": [
      "/opt/conda/lib/python3.10/site-packages/sklearn/neighbors/_classification.py:215: DataConversionWarning: A column-vector y was passed when a 1d array was expected. Please change the shape of y to (n_samples,), for example using ravel().\n",
      "  return self._fit(X, y)\n",
      "/opt/conda/lib/python3.10/site-packages/sklearn/neighbors/_classification.py:215: DataConversionWarning: A column-vector y was passed when a 1d array was expected. Please change the shape of y to (n_samples,), for example using ravel().\n",
      "  return self._fit(X, y)\n",
      "/opt/conda/lib/python3.10/site-packages/sklearn/neighbors/_classification.py:215: DataConversionWarning: A column-vector y was passed when a 1d array was expected. Please change the shape of y to (n_samples,), for example using ravel().\n",
      "  return self._fit(X, y)\n",
      "/opt/conda/lib/python3.10/site-packages/sklearn/neighbors/_classification.py:215: DataConversionWarning: A column-vector y was passed when a 1d array was expected. Please change the shape of y to (n_samples,), for example using ravel().\n",
      "  return self._fit(X, y)\n",
      "/opt/conda/lib/python3.10/site-packages/sklearn/neighbors/_classification.py:215: DataConversionWarning: A column-vector y was passed when a 1d array was expected. Please change the shape of y to (n_samples,), for example using ravel().\n",
      "  return self._fit(X, y)\n",
      "/opt/conda/lib/python3.10/site-packages/sklearn/neighbors/_classification.py:215: DataConversionWarning: A column-vector y was passed when a 1d array was expected. Please change the shape of y to (n_samples,), for example using ravel().\n",
      "  return self._fit(X, y)\n",
      "/opt/conda/lib/python3.10/site-packages/sklearn/neighbors/_classification.py:215: DataConversionWarning: A column-vector y was passed when a 1d array was expected. Please change the shape of y to (n_samples,), for example using ravel().\n",
      "  return self._fit(X, y)\n",
      "/opt/conda/lib/python3.10/site-packages/sklearn/neighbors/_classification.py:215: DataConversionWarning: A column-vector y was passed when a 1d array was expected. Please change the shape of y to (n_samples,), for example using ravel().\n",
      "  return self._fit(X, y)\n",
      "/opt/conda/lib/python3.10/site-packages/sklearn/neighbors/_classification.py:215: DataConversionWarning: A column-vector y was passed when a 1d array was expected. Please change the shape of y to (n_samples,), for example using ravel().\n",
      "  return self._fit(X, y)\n",
      "/opt/conda/lib/python3.10/site-packages/sklearn/neighbors/_classification.py:215: DataConversionWarning: A column-vector y was passed when a 1d array was expected. Please change the shape of y to (n_samples,), for example using ravel().\n",
      "  return self._fit(X, y)\n"
     ]
    },
    {
     "name": "stdout",
     "output_type": "stream",
     "text": [
      "KNN: 0.503477 (0.097948)\n"
     ]
    },
    {
     "name": "stderr",
     "output_type": "stream",
     "text": [
      "/opt/conda/lib/python3.10/site-packages/sklearn/utils/validation.py:1143: DataConversionWarning: A column-vector y was passed when a 1d array was expected. Please change the shape of y to (n_samples, ), for example using ravel().\n",
      "  y = column_or_1d(y, warn=True)\n",
      "/opt/conda/lib/python3.10/site-packages/sklearn/utils/validation.py:1143: DataConversionWarning: A column-vector y was passed when a 1d array was expected. Please change the shape of y to (n_samples, ), for example using ravel().\n",
      "  y = column_or_1d(y, warn=True)\n",
      "/opt/conda/lib/python3.10/site-packages/sklearn/utils/validation.py:1143: DataConversionWarning: A column-vector y was passed when a 1d array was expected. Please change the shape of y to (n_samples, ), for example using ravel().\n",
      "  y = column_or_1d(y, warn=True)\n",
      "/opt/conda/lib/python3.10/site-packages/sklearn/utils/validation.py:1143: DataConversionWarning: A column-vector y was passed when a 1d array was expected. Please change the shape of y to (n_samples, ), for example using ravel().\n",
      "  y = column_or_1d(y, warn=True)\n",
      "/opt/conda/lib/python3.10/site-packages/sklearn/utils/validation.py:1143: DataConversionWarning: A column-vector y was passed when a 1d array was expected. Please change the shape of y to (n_samples, ), for example using ravel().\n",
      "  y = column_or_1d(y, warn=True)\n",
      "/opt/conda/lib/python3.10/site-packages/sklearn/utils/validation.py:1143: DataConversionWarning: A column-vector y was passed when a 1d array was expected. Please change the shape of y to (n_samples, ), for example using ravel().\n",
      "  y = column_or_1d(y, warn=True)\n",
      "/opt/conda/lib/python3.10/site-packages/sklearn/utils/validation.py:1143: DataConversionWarning: A column-vector y was passed when a 1d array was expected. Please change the shape of y to (n_samples, ), for example using ravel().\n",
      "  y = column_or_1d(y, warn=True)\n",
      "/opt/conda/lib/python3.10/site-packages/sklearn/utils/validation.py:1143: DataConversionWarning: A column-vector y was passed when a 1d array was expected. Please change the shape of y to (n_samples, ), for example using ravel().\n",
      "  y = column_or_1d(y, warn=True)\n",
      "/opt/conda/lib/python3.10/site-packages/sklearn/utils/validation.py:1143: DataConversionWarning: A column-vector y was passed when a 1d array was expected. Please change the shape of y to (n_samples, ), for example using ravel().\n",
      "  y = column_or_1d(y, warn=True)\n",
      "/opt/conda/lib/python3.10/site-packages/sklearn/utils/validation.py:1143: DataConversionWarning: A column-vector y was passed when a 1d array was expected. Please change the shape of y to (n_samples, ), for example using ravel().\n",
      "  y = column_or_1d(y, warn=True)\n"
     ]
    },
    {
     "name": "stdout",
     "output_type": "stream",
     "text": [
      "SVM: 0.664269 (0.021065)\n",
      "DTC: 0.648144 (0.025897)\n"
     ]
    },
    {
     "name": "stderr",
     "output_type": "stream",
     "text": [
      "/opt/conda/lib/python3.10/site-packages/sklearn/ensemble/_bagging.py:802: DataConversionWarning: A column-vector y was passed when a 1d array was expected. Please change the shape of y to (n_samples, ), for example using ravel().\n",
      "  y = column_or_1d(y, warn=True)\n",
      "/opt/conda/lib/python3.10/site-packages/sklearn/ensemble/_bagging.py:802: DataConversionWarning: A column-vector y was passed when a 1d array was expected. Please change the shape of y to (n_samples, ), for example using ravel().\n",
      "  y = column_or_1d(y, warn=True)\n",
      "/opt/conda/lib/python3.10/site-packages/sklearn/ensemble/_bagging.py:802: DataConversionWarning: A column-vector y was passed when a 1d array was expected. Please change the shape of y to (n_samples, ), for example using ravel().\n",
      "  y = column_or_1d(y, warn=True)\n",
      "/opt/conda/lib/python3.10/site-packages/sklearn/ensemble/_bagging.py:802: DataConversionWarning: A column-vector y was passed when a 1d array was expected. Please change the shape of y to (n_samples, ), for example using ravel().\n",
      "  y = column_or_1d(y, warn=True)\n",
      "/opt/conda/lib/python3.10/site-packages/sklearn/ensemble/_bagging.py:802: DataConversionWarning: A column-vector y was passed when a 1d array was expected. Please change the shape of y to (n_samples, ), for example using ravel().\n",
      "  y = column_or_1d(y, warn=True)\n",
      "/opt/conda/lib/python3.10/site-packages/sklearn/ensemble/_bagging.py:802: DataConversionWarning: A column-vector y was passed when a 1d array was expected. Please change the shape of y to (n_samples, ), for example using ravel().\n",
      "  y = column_or_1d(y, warn=True)\n",
      "/opt/conda/lib/python3.10/site-packages/sklearn/ensemble/_bagging.py:802: DataConversionWarning: A column-vector y was passed when a 1d array was expected. Please change the shape of y to (n_samples, ), for example using ravel().\n",
      "  y = column_or_1d(y, warn=True)\n",
      "/opt/conda/lib/python3.10/site-packages/sklearn/ensemble/_bagging.py:802: DataConversionWarning: A column-vector y was passed when a 1d array was expected. Please change the shape of y to (n_samples, ), for example using ravel().\n",
      "  y = column_or_1d(y, warn=True)\n",
      "/opt/conda/lib/python3.10/site-packages/sklearn/ensemble/_bagging.py:802: DataConversionWarning: A column-vector y was passed when a 1d array was expected. Please change the shape of y to (n_samples, ), for example using ravel().\n",
      "  y = column_or_1d(y, warn=True)\n",
      "/opt/conda/lib/python3.10/site-packages/sklearn/ensemble/_bagging.py:802: DataConversionWarning: A column-vector y was passed when a 1d array was expected. Please change the shape of y to (n_samples, ), for example using ravel().\n",
      "  y = column_or_1d(y, warn=True)\n"
     ]
    },
    {
     "name": "stdout",
     "output_type": "stream",
     "text": [
      "BC: 0.651036 (0.024741)\n"
     ]
    },
    {
     "name": "stderr",
     "output_type": "stream",
     "text": [
      "/opt/conda/lib/python3.10/site-packages/sklearn/utils/validation.py:1143: DataConversionWarning: A column-vector y was passed when a 1d array was expected. Please change the shape of y to (n_samples, ), for example using ravel().\n",
      "  y = column_or_1d(y, warn=True)\n",
      "/opt/conda/lib/python3.10/site-packages/sklearn/utils/validation.py:1143: DataConversionWarning: A column-vector y was passed when a 1d array was expected. Please change the shape of y to (n_samples, ), for example using ravel().\n",
      "  y = column_or_1d(y, warn=True)\n",
      "/opt/conda/lib/python3.10/site-packages/sklearn/utils/validation.py:1143: DataConversionWarning: A column-vector y was passed when a 1d array was expected. Please change the shape of y to (n_samples, ), for example using ravel().\n",
      "  y = column_or_1d(y, warn=True)\n",
      "/opt/conda/lib/python3.10/site-packages/sklearn/utils/validation.py:1143: DataConversionWarning: A column-vector y was passed when a 1d array was expected. Please change the shape of y to (n_samples, ), for example using ravel().\n",
      "  y = column_or_1d(y, warn=True)\n",
      "/opt/conda/lib/python3.10/site-packages/sklearn/utils/validation.py:1143: DataConversionWarning: A column-vector y was passed when a 1d array was expected. Please change the shape of y to (n_samples, ), for example using ravel().\n",
      "  y = column_or_1d(y, warn=True)\n",
      "/opt/conda/lib/python3.10/site-packages/sklearn/utils/validation.py:1143: DataConversionWarning: A column-vector y was passed when a 1d array was expected. Please change the shape of y to (n_samples, ), for example using ravel().\n",
      "  y = column_or_1d(y, warn=True)\n",
      "/opt/conda/lib/python3.10/site-packages/sklearn/utils/validation.py:1143: DataConversionWarning: A column-vector y was passed when a 1d array was expected. Please change the shape of y to (n_samples, ), for example using ravel().\n",
      "  y = column_or_1d(y, warn=True)\n",
      "/opt/conda/lib/python3.10/site-packages/sklearn/utils/validation.py:1143: DataConversionWarning: A column-vector y was passed when a 1d array was expected. Please change the shape of y to (n_samples, ), for example using ravel().\n",
      "  y = column_or_1d(y, warn=True)\n",
      "/opt/conda/lib/python3.10/site-packages/sklearn/utils/validation.py:1143: DataConversionWarning: A column-vector y was passed when a 1d array was expected. Please change the shape of y to (n_samples, ), for example using ravel().\n",
      "  y = column_or_1d(y, warn=True)\n",
      "/opt/conda/lib/python3.10/site-packages/sklearn/utils/validation.py:1143: DataConversionWarning: A column-vector y was passed when a 1d array was expected. Please change the shape of y to (n_samples, ), for example using ravel().\n",
      "  y = column_or_1d(y, warn=True)\n"
     ]
    },
    {
     "name": "stdout",
     "output_type": "stream",
     "text": [
      "ABC: 0.659858 (0.023542)\n"
     ]
    },
    {
     "name": "stderr",
     "output_type": "stream",
     "text": [
      "/opt/conda/lib/python3.10/site-packages/sklearn/neural_network/_multilayer_perceptron.py:1098: DataConversionWarning: A column-vector y was passed when a 1d array was expected. Please change the shape of y to (n_samples, ), for example using ravel().\n",
      "  y = column_or_1d(y, warn=True)\n",
      "/opt/conda/lib/python3.10/site-packages/sklearn/neural_network/_multilayer_perceptron.py:1098: DataConversionWarning: A column-vector y was passed when a 1d array was expected. Please change the shape of y to (n_samples, ), for example using ravel().\n",
      "  y = column_or_1d(y, warn=True)\n",
      "/opt/conda/lib/python3.10/site-packages/sklearn/neural_network/_multilayer_perceptron.py:1098: DataConversionWarning: A column-vector y was passed when a 1d array was expected. Please change the shape of y to (n_samples, ), for example using ravel().\n",
      "  y = column_or_1d(y, warn=True)\n",
      "/opt/conda/lib/python3.10/site-packages/sklearn/neural_network/_multilayer_perceptron.py:1098: DataConversionWarning: A column-vector y was passed when a 1d array was expected. Please change the shape of y to (n_samples, ), for example using ravel().\n",
      "  y = column_or_1d(y, warn=True)\n",
      "/opt/conda/lib/python3.10/site-packages/sklearn/neural_network/_multilayer_perceptron.py:1098: DataConversionWarning: A column-vector y was passed when a 1d array was expected. Please change the shape of y to (n_samples, ), for example using ravel().\n",
      "  y = column_or_1d(y, warn=True)\n",
      "/opt/conda/lib/python3.10/site-packages/sklearn/neural_network/_multilayer_perceptron.py:1098: DataConversionWarning: A column-vector y was passed when a 1d array was expected. Please change the shape of y to (n_samples, ), for example using ravel().\n",
      "  y = column_or_1d(y, warn=True)\n",
      "/opt/conda/lib/python3.10/site-packages/sklearn/neural_network/_multilayer_perceptron.py:1098: DataConversionWarning: A column-vector y was passed when a 1d array was expected. Please change the shape of y to (n_samples, ), for example using ravel().\n",
      "  y = column_or_1d(y, warn=True)\n",
      "/opt/conda/lib/python3.10/site-packages/sklearn/neural_network/_multilayer_perceptron.py:1098: DataConversionWarning: A column-vector y was passed when a 1d array was expected. Please change the shape of y to (n_samples, ), for example using ravel().\n",
      "  y = column_or_1d(y, warn=True)\n",
      "/opt/conda/lib/python3.10/site-packages/sklearn/neural_network/_multilayer_perceptron.py:1098: DataConversionWarning: A column-vector y was passed when a 1d array was expected. Please change the shape of y to (n_samples, ), for example using ravel().\n",
      "  y = column_or_1d(y, warn=True)\n",
      "/opt/conda/lib/python3.10/site-packages/sklearn/neural_network/_multilayer_perceptron.py:1098: DataConversionWarning: A column-vector y was passed when a 1d array was expected. Please change the shape of y to (n_samples, ), for example using ravel().\n",
      "  y = column_or_1d(y, warn=True)\n"
     ]
    },
    {
     "name": "stdout",
     "output_type": "stream",
     "text": [
      "MLPC: 0.665028 (0.021216)\n"
     ]
    }
   ],
   "source": [
    "results = []\n",
    "names = []\n",
    "scoring = 'accuracy'\n",
    "for name, model in models:\n",
    " kfold = model_selection.KFold(n_splits=10)\n",
    " cv_results = model_selection.cross_val_score(model, X_train_transformed[:55315], y_train[:55315], cv=kfold, scoring=scoring)\n",
    " results.append(cv_results)\n",
    " names.append(name)\n",
    " msg = \"%s: %f (%f)\" % (name, cv_results.mean(), cv_results.std())\n",
    " print(msg)"
   ]
  },
  {
   "cell_type": "code",
   "execution_count": 82,
   "id": "468a7435",
   "metadata": {
    "execution": {
     "iopub.execute_input": "2023-07-18T20:45:08.854525Z",
     "iopub.status.busy": "2023-07-18T20:45:08.854143Z",
     "iopub.status.idle": "2023-07-18T20:45:09.383777Z",
     "shell.execute_reply": "2023-07-18T20:45:09.382494Z"
    },
    "papermill": {
     "duration": 0.577734,
     "end_time": "2023-07-18T20:45:09.386402",
     "exception": false,
     "start_time": "2023-07-18T20:45:08.808668",
     "status": "completed"
    },
    "tags": []
   },
   "outputs": [
    {
     "data": {
      "image/png": "[encoded data removed]",
      "text/plain": [
       "<Figure size 640x480 with 1 Axes>"
      ]
     },
     "metadata": {},
     "output_type": "display_data"
    }
   ],
   "source": [
    "fig = plt.figure()\n",
    "fig.suptitle('Algorithm Comparison')\n",
    "ax = fig.add_subplot(111)\n",
    "plt.boxplot(results)\n",
    "ax.set_xticklabels(names)\n",
    "plt.show()"
   ]
  }
 ],
 "metadata": {
  "kernelspec": {
   "display_name": "Python 3",
   "language": "python",
   "name": "python3"
  },
  "language_info": {
   "codemirror_mode": {
    "name": "ipython",
    "version": 3
   },
   "file_extension": ".py",
   "mimetype": "text/x-python",
   "name": "python",
   "nbconvert_exporter": "python",
   "pygments_lexer": "ipython3",
   "version": "3.10.10"
  },
  "papermill": {
   "default_parameters": {},
   "duration": 5972.456622,
   "end_time": "2023-07-18T20:45:12.075390",
   "environment_variables": {},
   "exception": null,
   "input_path": "__notebook__.ipynb",
   "output_path": "__notebook__.ipynb",
   "parameters": {},
   "start_time": "2023-07-18T19:05:39.618768",
   "version": "2.4.0"
  }
 },
 "nbformat": 4,
 "nbformat_minor": 5
}
